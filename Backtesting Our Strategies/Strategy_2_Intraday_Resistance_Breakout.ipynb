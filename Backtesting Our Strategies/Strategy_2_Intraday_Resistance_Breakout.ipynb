{
  "nbformat": 4,
  "nbformat_minor": 0,
  "metadata": {
    "colab": {
      "provenance": []
    },
    "kernelspec": {
      "name": "python3",
      "display_name": "Python 3"
    },
    "language_info": {
      "name": "python"
    }
  },
  "cells": [
    {
      "cell_type": "markdown",
      "source": [
        "### Backtesting Strategy 2: Intraday Resistance Breakout Strategy"
      ],
      "metadata": {
        "id": "waSXni8SbHYu"
      }
    },
    {
      "cell_type": "code",
      "source": [
        "!pip install alpha_vantage"
      ],
      "metadata": {
        "colab": {
          "base_uri": "https://localhost:8080/"
        },
        "collapsed": true,
        "id": "Btlcbyvqsbxi",
        "outputId": "5a96a360-ea90-4cf3-b285-9773051aff4e"
      },
      "execution_count": 1,
      "outputs": [
        {
          "output_type": "stream",
          "name": "stdout",
          "text": [
            "Looking in indexes: https://pypi.org/simple, https://us-python.pkg.dev/colab-wheels/public/simple/\n",
            "Collecting alpha_vantage\n",
            "  Downloading alpha_vantage-2.3.1-py3-none-any.whl (31 kB)\n",
            "Requirement already satisfied: requests in /usr/local/lib/python3.7/dist-packages (from alpha_vantage) (2.23.0)\n",
            "Requirement already satisfied: aiohttp in /usr/local/lib/python3.7/dist-packages (from alpha_vantage) (3.8.1)\n",
            "Requirement already satisfied: charset-normalizer<3.0,>=2.0 in /usr/local/lib/python3.7/dist-packages (from aiohttp->alpha_vantage) (2.1.1)\n",
            "Requirement already satisfied: async-timeout<5.0,>=4.0.0a3 in /usr/local/lib/python3.7/dist-packages (from aiohttp->alpha_vantage) (4.0.2)\n",
            "Requirement already satisfied: attrs>=17.3.0 in /usr/local/lib/python3.7/dist-packages (from aiohttp->alpha_vantage) (22.1.0)\n",
            "Requirement already satisfied: aiosignal>=1.1.2 in /usr/local/lib/python3.7/dist-packages (from aiohttp->alpha_vantage) (1.2.0)\n",
            "Requirement already satisfied: asynctest==0.13.0 in /usr/local/lib/python3.7/dist-packages (from aiohttp->alpha_vantage) (0.13.0)\n",
            "Requirement already satisfied: yarl<2.0,>=1.0 in /usr/local/lib/python3.7/dist-packages (from aiohttp->alpha_vantage) (1.8.1)\n",
            "Requirement already satisfied: multidict<7.0,>=4.5 in /usr/local/lib/python3.7/dist-packages (from aiohttp->alpha_vantage) (6.0.2)\n",
            "Requirement already satisfied: typing-extensions>=3.7.4 in /usr/local/lib/python3.7/dist-packages (from aiohttp->alpha_vantage) (4.1.1)\n",
            "Requirement already satisfied: frozenlist>=1.1.1 in /usr/local/lib/python3.7/dist-packages (from aiohttp->alpha_vantage) (1.3.1)\n",
            "Requirement already satisfied: idna>=2.0 in /usr/local/lib/python3.7/dist-packages (from yarl<2.0,>=1.0->aiohttp->alpha_vantage) (2.10)\n",
            "Requirement already satisfied: urllib3!=1.25.0,!=1.25.1,<1.26,>=1.21.1 in /usr/local/lib/python3.7/dist-packages (from requests->alpha_vantage) (1.24.3)\n",
            "Requirement already satisfied: chardet<4,>=3.0.2 in /usr/local/lib/python3.7/dist-packages (from requests->alpha_vantage) (3.0.4)\n",
            "Requirement already satisfied: certifi>=2017.4.17 in /usr/local/lib/python3.7/dist-packages (from requests->alpha_vantage) (2022.6.15)\n",
            "Installing collected packages: alpha-vantage\n",
            "Successfully installed alpha-vantage-2.3.1\n"
          ]
        }
      ]
    },
    {
      "cell_type": "code",
      "source": [
        "# import necessary libraries\n",
        "import numpy as np\n",
        "import pandas as pd\n",
        "from alpha_vantage.timeseries import TimeSeries\n",
        "import copy\n",
        "import time"
      ],
      "metadata": {
        "id": "QiJdyUPHsYWP"
      },
      "execution_count": 2,
      "outputs": []
    },
    {
      "cell_type": "code",
      "source": [
        "# Below are the KPI functions discussed in Key Performance Measures section\n",
        "def ATR(DF, n):\n",
        "  \"function to calculate True Range and Average True Range\"\n",
        "  df = DF.copy()\n",
        "  df['H-L'] = abs(df['High'] - df['Low'])\n",
        "  df['H-PC'] = abs(df['High']-df['Close'].shift(1))\n",
        "  df['L-PC'] = abs(df['Low']-df['Close'].shift(1))\n",
        "  df['TR'] = df[['H-L', 'H-PC', 'L-PC']].max(axis=1, skipna=False)\n",
        "  df['ATR'] = df['TR'].rolling(n).mean()\n",
        "  df2 = df.drop(['H-L', 'H-PC', 'L-PC'], axis=1)\n",
        "  return df2['ATR']\n",
        "\n",
        "def CAGR(DF):\n",
        "  # Function to implement the Cumulative Average Annual Growth Rate of a trading strategy\n",
        "  df = DF.copy()\n",
        "  df['cum_return'] = (1+df['ret']).cumprod()\n",
        "  n = len(df)/(252*78) # 78 is the number of 5 min candles in day from 9:35 AM to 4:00 PM, 252 is the number of working days in a year (excluding holidays)\n",
        "  CAGR = (df['cum_return'].tolist()[-1])**(1/n) - 1\n",
        "  return CAGR\n",
        "\n",
        "def volatility(DF):\n",
        "  # function to calculate annualized volatility of a trading strategy\n",
        "  df = DF.copy()\n",
        "  vol = df['ret'].std()*np.sqrt(252*78)\n",
        "  return vol\n",
        "\n",
        "def sharpe(DF, rf):\n",
        "  # function to calculate sharpe ratio; rf is the risk free rate\n",
        "  df = DF.copy()\n",
        "  sr = (CAGR(df) - rf)/volatility(df)\n",
        "  return sr\n",
        "\n",
        "def max_dd(DF):\n",
        "  # function to calculate max drawdown\n",
        "  df = DF.copy()\n",
        "  df['cum_return'] = (1+df['ret']).cumprod()\n",
        "  df['cum_roll_max'] = df['cum_return'].cummax()\n",
        "  df['drawdown'] = df['cum_roll_max'] - df['cum_return']\n",
        "  df['drawdown_pct'] = df['drawdown']/df['cum_roll_max']\n",
        "  max_dd = df['drawdown_pct'].max()\n",
        "  return max_dd"
      ],
      "metadata": {
        "id": "REMqzNw9s2j2"
      },
      "execution_count": 45,
      "outputs": []
    },
    {
      "cell_type": "code",
      "source": [
        "# Download historical data (monthly) for selected stocks\n",
        "tickers = ['MSFT', 'AAPL', 'META', 'AMZN', 'INTC', 'CSCO', 'VZ', 'IBM', 'TSLA', 'AMD']\n",
        "\n",
        "ts = TimeSeries(key='U1F2EWT19UKN9RXR', output_format='pandas')\n",
        "\n",
        "ohlc_intraday = {} # directory with ohlc value for each stock\n",
        "api_call_count = 1\n",
        "start_time = time.time()\n",
        "\n",
        "for ticker in tickers:\n",
        "  data = ts.get_intraday(symbol=ticker, interval='5min', outputsize='full')[0]\n",
        "  api_call_count += 1\n",
        "  data.columns = ['Open', 'High', 'Low', 'Close', 'Volume']\n",
        "  data = data.iloc[::-1]\n",
        "  data = data.between_time('09:35', '16:00') # consider data within regular trading hours, first candle is from 9:30 \n",
        "  ohlc_intraday[ticker] = data\n",
        "  if api_call_count==5:\n",
        "    api_call_count = 1\n",
        "    time.sleep(60 - ((time.time() - start_time) % 60.0))\n",
        "\n",
        "tickers = ohlc_intraday.keys() #redefine ticker variable after removing any tickers with corrupted data"
      ],
      "metadata": {
        "id": "btpas5anuqx5"
      },
      "execution_count": 16,
      "outputs": []
    },
    {
      "cell_type": "code",
      "source": [
        "tickers"
      ],
      "metadata": {
        "colab": {
          "base_uri": "https://localhost:8080/"
        },
        "id": "iKgcjfJT4Wlb",
        "outputId": "707a7851-c836-4efd-818c-4b6eb6a4aac4"
      },
      "execution_count": 17,
      "outputs": [
        {
          "output_type": "execute_result",
          "data": {
            "text/plain": [
              "dict_keys(['MSFT', 'AAPL', 'META', 'AMZN', 'INTC', 'CSCO', 'VZ', 'IBM', 'TSLA', 'AMD'])"
            ]
          },
          "metadata": {},
          "execution_count": 17
        }
      ]
    },
    {
      "cell_type": "markdown",
      "source": [
        "### Implementation of BackTesting Strategy: Intraday Resistance Breakout"
      ],
      "metadata": {
        "id": "4zN9d6O143vj"
      }
    },
    {
      "cell_type": "code",
      "source": [
        "# Calculating rolling max ratio and ATR for each stock and consolidating this info by stock in a separate dataframe\n",
        "ohlc_dict = copy.deepcopy(ohlc_intraday)\n",
        "tickers_signal = {}\n",
        "tickers_ret = {}\n",
        "for ticker in tickers:\n",
        "  print(\"Calculating ATR and Rolling Max price for \", ticker)\n",
        "  ohlc_dict[ticker]['ATR'] = ATR(ohlc_dict[ticker], 20)\n",
        "  ohlc_dict[ticker]['roll_max_cp'] = ohlc_dict[ticker]['High'].rolling(20).max()\n",
        "  ohlc_dict[ticker]['roll_min_cp'] = ohlc_dict[ticker]['Low'].rolling(20).min()\n",
        "  ohlc_dict[ticker]['roll_max_vol'] = ohlc_dict[ticker]['Volume'].rolling(20).max()\n",
        "  ohlc_dict[ticker].dropna(inplace=True)\n",
        "  tickers_signal[ticker] = \"\"\n",
        "  tickers_ret[ticker] = [0]"
      ],
      "metadata": {
        "colab": {
          "base_uri": "https://localhost:8080/"
        },
        "id": "L1VythZj4_d3",
        "outputId": "074779a6-66dd-4a54-8d07-64f636290b2d"
      },
      "execution_count": 39,
      "outputs": [
        {
          "output_type": "stream",
          "name": "stdout",
          "text": [
            "Calculating ATR and Rolling Max price for  MSFT\n",
            "Calculating ATR and Rolling Max price for  AAPL\n",
            "Calculating ATR and Rolling Max price for  META\n",
            "Calculating ATR and Rolling Max price for  AMZN\n",
            "Calculating ATR and Rolling Max price for  INTC\n",
            "Calculating ATR and Rolling Max price for  CSCO\n",
            "Calculating ATR and Rolling Max price for  VZ\n",
            "Calculating ATR and Rolling Max price for  IBM\n",
            "Calculating ATR and Rolling Max price for  TSLA\n",
            "Calculating ATR and Rolling Max price for  AMD\n"
          ]
        }
      ]
    },
    {
      "cell_type": "code",
      "source": [
        "# Identifying signals and calculating return (stop loss factored in)\n",
        "for ticker in tickers:\n",
        "  print(\"Calculating returns for \", ticker)\n",
        "  for i in range(1, len(ohlc_dict[ticker])):\n",
        "    if tickers_signal[ticker] == \"\":\n",
        "      tickers_ret[ticker].append(0)\n",
        "      if ohlc_dict[ticker][\"High\"][i] >= ohlc_dict[ticker]['roll_max_cp'][i] and ohlc_dict[ticker][\"Volume\"][i] > 1.5*ohlc_dict[ticker]['roll_max_vol'][i-1]:\n",
        "        tickers_signal[ticker] = \"Buy\"\n",
        "      elif ohlc_dict[ticker][\"Low\"][i] <= ohlc_dict[ticker]['roll_min_cp'][i] and ohlc_dict[ticker][\"Volume\"][i] > 1.5*ohlc_dict[ticker]['roll_max_vol'][i-1]:\n",
        "        tickers_signal[ticker] = \"Sell\"\n",
        "\n",
        "    elif tickers_signal[ticker] == \"Buy\":\n",
        "      if ohlc_dict[ticker]['Low'][i] < ohlc_dict[ticker]['Close'][i-1] - ohlc_dict[ticker]['ATR'][i-1]:\n",
        "        tickers_signal[ticker] = \"\"\n",
        "        tickers_ret[ticker].append(((ohlc_dict[ticker][\"Close\"][i-1] - ohlc_dict[ticker]['ATR'][i-1])/ohlc_dict[ticker]['Close'][i-1]) -1)\n",
        "      elif ohlc_dict[ticker][\"Low\"][i] <= ohlc_dict[ticker]['roll_min_cp'][i] and ohlc_dict[ticker][\"Volume\"][i] > 1.5*ohlc_dict[ticker]['roll_max_vol'][i-1]:\n",
        "        tickers_signal[ticker] = \"Sell\"\n",
        "        tickers_ret[ticker].append((ohlc_dict[ticker]['Close'][i]/ohlc_dict[ticker]['Close'][i-1])-1)\n",
        "      else:\n",
        "        tickers_ret[ticker].append((ohlc_dict[ticker]['Close'][i]/ohlc_dict[ticker]['Close'][i-1])-1)\n",
        "\n",
        "    elif tickers_signal[ticker] == \"Sell\":\n",
        "      if ohlc_dict[ticker][\"High\"][i] > ohlc_dict[ticker]['Close'][i-1] + ohlc_dict[ticker][\"ATR\"][i-1]:\n",
        "        tickers_signal[ticker] = \"\"\n",
        "        tickers_ret[ticker].append((ohlc_dict[ticker][\"Close\"][i-1] / (ohlc_dict[ticker]['Close'][i-1] + ohlc_dict[ticker]['ATR'][i-1])) -1)\n",
        "      elif ohlc_dict[ticker][\"High\"][i] >= ohlc_dict[ticker]['roll_max_cp'][i] and ohlc_dict[ticker][\"Volume\"][i] > 1.5*ohlc_dict[ticker]['roll_max_vol'][i-1]:\n",
        "        tickers_signal[ticker] = \"Buy\"\n",
        "        tickers_ret[ticker].append((ohlc_dict[ticker]['Close'][i-1]/ohlc_dict[ticker]['Close'][i])-1)\n",
        "      else:\n",
        "        tickers_ret[ticker].append((ohlc_dict[ticker]['Close'][i-1]/ohlc_dict[ticker]['Close'][i])-1)\n",
        "  ohlc_dict[ticker]['ret'] = np.array(tickers_ret[ticker])"
      ],
      "metadata": {
        "colab": {
          "base_uri": "https://localhost:8080/"
        },
        "id": "0N-9wehJ6Z2H",
        "outputId": "211206ff-bb16-430d-dc54-5de5566e9377"
      },
      "execution_count": 40,
      "outputs": [
        {
          "output_type": "stream",
          "name": "stdout",
          "text": [
            "Calculating returns for  MSFT\n",
            "Calculating returns for  AAPL\n",
            "Calculating returns for  META\n",
            "Calculating returns for  AMZN\n",
            "Calculating returns for  INTC\n",
            "Calculating returns for  CSCO\n",
            "Calculating returns for  VZ\n",
            "Calculating returns for  IBM\n",
            "Calculating returns for  TSLA\n",
            "Calculating returns for  AMD\n"
          ]
        }
      ]
    },
    {
      "cell_type": "code",
      "source": [
        "# Calculating overall strategy's KPIs\n",
        "strategy_df = pd.DataFrame()\n",
        "for ticker in tickers:\n",
        "  strategy_df[ticker] = ohlc_dict[ticker]['ret']\n",
        "strategy_df['ret'] = strategy_df.mean(axis=1)\n",
        "print(CAGR(strategy_df))\n",
        "print(sharpe(strategy_df, 0.025))\n",
        "print(max_dd(strategy_df))"
      ],
      "metadata": {
        "colab": {
          "base_uri": "https://localhost:8080/"
        },
        "id": "wqk_JTgr6blg",
        "outputId": "2b71cd6a-c7a4-4502-f3ad-715786f66732"
      },
      "execution_count": 46,
      "outputs": [
        {
          "output_type": "stream",
          "name": "stdout",
          "text": [
            "0.143096684977009\n",
            "2.969787734073608\n",
            "0.006329244655629976\n"
          ]
        }
      ]
    },
    {
      "cell_type": "code",
      "source": [
        "# Visualization of strategy return\n",
        "(1+strategy_df['ret']).cumprod().plot()"
      ],
      "metadata": {
        "colab": {
          "base_uri": "https://localhost:8080/",
          "height": 302
        },
        "id": "PxGGoXQoFmtI",
        "outputId": "95f5f86b-7a11-40e0-c62e-453247246f81"
      },
      "execution_count": 47,
      "outputs": [
        {
          "output_type": "execute_result",
          "data": {
            "text/plain": [
              "<matplotlib.axes._subplots.AxesSubplot at 0x7feeed5d1dd0>"
            ]
          },
          "metadata": {},
          "execution_count": 47
        },
        {
          "output_type": "display_data",
          "data": {
            "text/plain": [
              "<Figure size 432x288 with 1 Axes>"
            ],
            "image/png": "[encoded data removed]"
          },
          "metadata": {
            "needs_background": "light"
          }
        }
      ]
    },
    {
      "cell_type": "code",
      "source": [
        "# Calculating individual Stock KPIs\n",
        "cagr = {}\n",
        "sharpe_ratios = {}\n",
        "max_drawdown = {}\n",
        "for ticker in tickers:\n",
        "    print(\"Calculating KPIs for \", ticker)\n",
        "    cagr[ticker] = CAGR(ohlc_dict[ticker])\n",
        "    sharpe_ratios[ticker] = sharpe(ohlc_dict[ticker], 0.025)\n",
        "    max_drawdown[ticker] = max_dd(ohlc_dict[ticker])"
      ],
      "metadata": {
        "colab": {
          "base_uri": "https://localhost:8080/"
        },
        "id": "t2KzYMKAWQMk",
        "outputId": "8737b702-9f50-45cf-91d4-f61690b31fc7"
      },
      "execution_count": 48,
      "outputs": [
        {
          "output_type": "stream",
          "name": "stdout",
          "text": [
            "Calculating KPIs for  MSFT\n",
            "Calculating KPIs for  AAPL\n",
            "Calculating KPIs for  META\n",
            "Calculating KPIs for  AMZN\n",
            "Calculating KPIs for  INTC\n",
            "Calculating KPIs for  CSCO\n",
            "Calculating KPIs for  VZ\n",
            "Calculating KPIs for  IBM\n",
            "Calculating KPIs for  TSLA\n",
            "Calculating KPIs for  AMD\n"
          ]
        }
      ]
    },
    {
      "cell_type": "code",
      "source": [
        "KPI_df = pd.DataFrame([cagr, sharpe_ratios, max_drawdown], index=['Return', 'Sharpe Ratio', 'Max Drawdown'])\n",
        "KPI_df.T"
      ],
      "metadata": {
        "colab": {
          "base_uri": "https://localhost:8080/",
          "height": 363
        },
        "id": "k-Y3ciEcXOJg",
        "outputId": "2e584715-1b42-405e-f31d-d3fa7aba5be9"
      },
      "execution_count": 49,
      "outputs": [
        {
          "output_type": "execute_result",
          "data": {
            "text/plain": [
              "        Return  Sharpe Ratio  Max Drawdown\n",
              "MSFT  0.307292      3.048598      0.018593\n",
              "AAPL  0.348541      4.778942      0.009567\n",
              "META  0.289377      2.095825      0.037226\n",
              "AMZN  0.173568      1.624170      0.010123\n",
              "INTC -0.024027     -0.586061      0.019677\n",
              "CSCO  0.159502      2.066065      0.012515\n",
              "VZ   -0.147883     -4.125384      0.015699\n",
              "IBM  -0.050184     -1.981650      0.009582\n",
              "TSLA  0.206766      1.834363      0.026657\n",
              "AMD   0.277699      2.788369      0.022030"
            ],
            "text/html": [
              "\n",
              "  <div id=\"df-2f7ecfb6-c0fe-4e29-9f49-323405fbefd6\">\n",
              "    <div class=\"colab-df-container\">\n",
              "      <div>\n",
              "<style scoped>\n",
              "    .dataframe tbody tr th:only-of-type {\n",
              "        vertical-align: middle;\n",
              "    }\n",
              "\n",
              "    .dataframe tbody tr th {\n",
              "        vertical-align: top;\n",
              "    }\n",
              "\n",
              "    .dataframe thead th {\n",
              "        text-align: right;\n",
              "    }\n",
              "</style>\n",
              "<table border=\"1\" class=\"dataframe\">\n",
              "  <thead>\n",
              "    <tr style=\"text-align: right;\">\n",
              "      <th></th>\n",
              "      <th>Return</th>\n",
              "      <th>Sharpe Ratio</th>\n",
              "      <th>Max Drawdown</th>\n",
              "    </tr>\n",
              "  </thead>\n",
              "  <tbody>\n",
              "    <tr>\n",
              "      <th>MSFT</th>\n",
              "      <td>0.307292</td>\n",
              "      <td>3.048598</td>\n",
              "      <td>0.018593</td>\n",
              "    </tr>\n",
              "    <tr>\n",
              "      <th>AAPL</th>\n",
              "      <td>0.348541</td>\n",
              "      <td>4.778942</td>\n",
              "      <td>0.009567</td>\n",
              "    </tr>\n",
              "    <tr>\n",
              "      <th>META</th>\n",
              "      <td>0.289377</td>\n",
              "      <td>2.095825</td>\n",
              "      <td>0.037226</td>\n",
              "    </tr>\n",
              "    <tr>\n",
              "      <th>AMZN</th>\n",
              "      <td>0.173568</td>\n",
              "      <td>1.624170</td>\n",
              "      <td>0.010123</td>\n",
              "    </tr>\n",
              "    <tr>\n",
              "      <th>INTC</th>\n",
              "      <td>-0.024027</td>\n",
              "      <td>-0.586061</td>\n",
              "      <td>0.019677</td>\n",
              "    </tr>\n",
              "    <tr>\n",
              "      <th>CSCO</th>\n",
              "      <td>0.159502</td>\n",
              "      <td>2.066065</td>\n",
              "      <td>0.012515</td>\n",
              "    </tr>\n",
              "    <tr>\n",
              "      <th>VZ</th>\n",
              "      <td>-0.147883</td>\n",
              "      <td>-4.125384</td>\n",
              "      <td>0.015699</td>\n",
              "    </tr>\n",
              "    <tr>\n",
              "      <th>IBM</th>\n",
              "      <td>-0.050184</td>\n",
              "      <td>-1.981650</td>\n",
              "      <td>0.009582</td>\n",
              "    </tr>\n",
              "    <tr>\n",
              "      <th>TSLA</th>\n",
              "      <td>0.206766</td>\n",
              "      <td>1.834363</td>\n",
              "      <td>0.026657</td>\n",
              "    </tr>\n",
              "    <tr>\n",
              "      <th>AMD</th>\n",
              "      <td>0.277699</td>\n",
              "      <td>2.788369</td>\n",
              "      <td>0.022030</td>\n",
              "    </tr>\n",
              "  </tbody>\n",
              "</table>\n",
              "</div>\n",
              "      <button class=\"colab-df-convert\" onclick=\"convertToInteractive('df-2f7ecfb6-c0fe-4e29-9f49-323405fbefd6')\"\n",
              "              title=\"Convert this dataframe to an interactive table.\"\n",
              "              style=\"display:none;\">\n",
              "        \n",
              "  <svg xmlns=\"http://www.w3.org/2000/svg\" height=\"24px\"viewBox=\"0 0 24 24\"\n",
              "       width=\"24px\">\n",
              "    <path d=\"M0 0h24v24H0V0z\" fill=\"none\"/>\n",
              "    <path d=\"M18.56 5.44l.94 2.06.94-2.06 2.06-.94-2.06-.94-.94-2.06-.94 2.06-2.06.94zm-11 1L8.5 8.5l.94-2.06 2.06-.94-2.06-.94L8.5 2.5l-.94 2.06-2.06.94zm10 10l.94 2.06.94-2.06 2.06-.94-2.06-.94-.94-2.06-.94 2.06-2.06.94z\"/><path d=\"M17.41 7.96l-1.37-1.37c-.4-.4-.92-.59-1.43-.59-.52 0-1.04.2-1.43.59L10.3 9.45l-7.72 7.72c-.78.78-.78 2.05 0 2.83L4 21.41c.39.39.9.59 1.41.59.51 0 1.02-.2 1.41-.59l7.78-7.78 2.81-2.81c.8-.78.8-2.07 0-2.86zM5.41 20L4 18.59l7.72-7.72 1.47 1.35L5.41 20z\"/>\n",
              "  </svg>\n",
              "      </button>\n",
              "      \n",
              "  <style>\n",
              "    .colab-df-container {\n",
              "      display:flex;\n",
              "      flex-wrap:wrap;\n",
              "      gap: 12px;\n",
              "    }\n",
              "\n",
              "    .colab-df-convert {\n",
              "      background-color: #E8F0FE;\n",
              "      border: none;\n",
              "      border-radius: 50%;\n",
              "      cursor: pointer;\n",
              "      display: none;\n",
              "      fill: #1967D2;\n",
              "      height: 32px;\n",
              "      padding: 0 0 0 0;\n",
              "      width: 32px;\n",
              "    }\n",
              "\n",
              "    .colab-df-convert:hover {\n",
              "      background-color: #E2EBFA;\n",
              "      box-shadow: 0px 1px 2px rgba(60, 64, 67, 0.3), 0px 1px 3px 1px rgba(60, 64, 67, 0.15);\n",
              "      fill: #174EA6;\n",
              "    }\n",
              "\n",
              "    [theme=dark] .colab-df-convert {\n",
              "      background-color: #3B4455;\n",
              "      fill: #D2E3FC;\n",
              "    }\n",
              "\n",
              "    [theme=dark] .colab-df-convert:hover {\n",
              "      background-color: #434B5C;\n",
              "      box-shadow: 0px 1px 3px 1px rgba(0, 0, 0, 0.15);\n",
              "      filter: drop-shadow(0px 1px 2px rgba(0, 0, 0, 0.3));\n",
              "      fill: #FFFFFF;\n",
              "    }\n",
              "  </style>\n",
              "\n",
              "      <script>\n",
              "        const buttonEl =\n",
              "          document.querySelector('#df-2f7ecfb6-c0fe-4e29-9f49-323405fbefd6 button.colab-df-convert');\n",
              "        buttonEl.style.display =\n",
              "          google.colab.kernel.accessAllowed ? 'block' : 'none';\n",
              "\n",
              "        async function convertToInteractive(key) {\n",
              "          const element = document.querySelector('#df-2f7ecfb6-c0fe-4e29-9f49-323405fbefd6');\n",
              "          const dataTable =\n",
              "            await google.colab.kernel.invokeFunction('convertToInteractive',\n",
              "                                                     [key], {});\n",
              "          if (!dataTable) return;\n",
              "\n",
              "          const docLinkHtml = 'Like what you see? Visit the ' +\n",
              "            '<a target=\"_blank\" href=https://colab.research.google.com/notebooks/data_table.ipynb>data table notebook</a>'\n",
              "            + ' to learn more about interactive tables.';\n",
              "          element.innerHTML = '';\n",
              "          dataTable['output_type'] = 'display_data';\n",
              "          await google.colab.output.renderOutput(dataTable, element);\n",
              "          const docLink = document.createElement('div');\n",
              "          docLink.innerHTML = docLinkHtml;\n",
              "          element.appendChild(docLink);\n",
              "        }\n",
              "      </script>\n",
              "    </div>\n",
              "  </div>\n",
              "  "
            ]
          },
          "metadata": {},
          "execution_count": 49
        }
      ]
    },
    {
      "cell_type": "code",
      "source": [],
      "metadata": {
        "id": "gWBSFcKWXg4o"
      },
      "execution_count": null,
      "outputs": []
    }
  ]
}