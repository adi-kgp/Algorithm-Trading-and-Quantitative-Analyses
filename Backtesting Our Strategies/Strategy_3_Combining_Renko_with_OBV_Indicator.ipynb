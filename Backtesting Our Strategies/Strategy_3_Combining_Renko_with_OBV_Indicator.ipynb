{
  "nbformat": 4,
  "nbformat_minor": 0,
  "metadata": {
    "colab": {
      "provenance": []
    },
    "kernelspec": {
      "name": "python3",
      "display_name": "Python 3"
    },
    "language_info": {
      "name": "python"
    }
  },
  "cells": [
    {
      "cell_type": "markdown",
      "source": [
        "### Backtesting Strategy 3: Combining Renko with OBV Indicator"
      ],
      "metadata": {
        "id": "ybKTEf6KEGen"
      }
    },
    {
      "cell_type": "code",
      "source": [
        "# Installing finance libraries\n",
        "!pip install stocktrends\n",
        "!pip install alpha_vantage"
      ],
      "metadata": {
        "collapsed": true,
        "id": "pNRvUy5OE_6p",
        "colab": {
          "base_uri": "https://localhost:8080/"
        },
        "outputId": "54feb44d-e82f-4725-f360-1bbfdf73f2df"
      },
      "execution_count": 1,
      "outputs": [
        {
          "output_type": "stream",
          "name": "stdout",
          "text": [
            "Looking in indexes: https://pypi.org/simple, https://us-python.pkg.dev/colab-wheels/public/simple/\n",
            "Collecting stocktrends\n",
            "  Downloading stocktrends-0.1.5.tar.gz (4.8 kB)\n",
            "Building wheels for collected packages: stocktrends\n",
            "  Building wheel for stocktrends (setup.py) ... \u001b[?25l\u001b[?25hdone\n",
            "  Created wheel for stocktrends: filename=stocktrends-0.1.5-py3-none-any.whl size=5268 sha256=d0f4544e6428a434606711696e0004a623a538db0dad2105e1d2fa963a3c664b\n",
            "  Stored in directory: /root/.cache/pip/wheels/90/ef/b1/e0236a481889eb9ffff00c842d80b99e1269e62d0b9c2c32ea\n",
            "Successfully built stocktrends\n",
            "Installing collected packages: stocktrends\n",
            "Successfully installed stocktrends-0.1.5\n",
            "Looking in indexes: https://pypi.org/simple, https://us-python.pkg.dev/colab-wheels/public/simple/\n",
            "Collecting alpha_vantage\n",
            "  Downloading alpha_vantage-2.3.1-py3-none-any.whl (31 kB)\n",
            "Requirement already satisfied: aiohttp in /usr/local/lib/python3.7/dist-packages (from alpha_vantage) (3.8.1)\n",
            "Requirement already satisfied: requests in /usr/local/lib/python3.7/dist-packages (from alpha_vantage) (2.23.0)\n",
            "Requirement already satisfied: multidict<7.0,>=4.5 in /usr/local/lib/python3.7/dist-packages (from aiohttp->alpha_vantage) (6.0.2)\n",
            "Requirement already satisfied: aiosignal>=1.1.2 in /usr/local/lib/python3.7/dist-packages (from aiohttp->alpha_vantage) (1.2.0)\n",
            "Requirement already satisfied: async-timeout<5.0,>=4.0.0a3 in /usr/local/lib/python3.7/dist-packages (from aiohttp->alpha_vantage) (4.0.2)\n",
            "Requirement already satisfied: frozenlist>=1.1.1 in /usr/local/lib/python3.7/dist-packages (from aiohttp->alpha_vantage) (1.3.1)\n",
            "Requirement already satisfied: asynctest==0.13.0 in /usr/local/lib/python3.7/dist-packages (from aiohttp->alpha_vantage) (0.13.0)\n",
            "Requirement already satisfied: typing-extensions>=3.7.4 in /usr/local/lib/python3.7/dist-packages (from aiohttp->alpha_vantage) (4.1.1)\n",
            "Requirement already satisfied: yarl<2.0,>=1.0 in /usr/local/lib/python3.7/dist-packages (from aiohttp->alpha_vantage) (1.8.1)\n",
            "Requirement already satisfied: charset-normalizer<3.0,>=2.0 in /usr/local/lib/python3.7/dist-packages (from aiohttp->alpha_vantage) (2.1.1)\n",
            "Requirement already satisfied: attrs>=17.3.0 in /usr/local/lib/python3.7/dist-packages (from aiohttp->alpha_vantage) (22.1.0)\n",
            "Requirement already satisfied: idna>=2.0 in /usr/local/lib/python3.7/dist-packages (from yarl<2.0,>=1.0->aiohttp->alpha_vantage) (2.10)\n",
            "Requirement already satisfied: urllib3!=1.25.0,!=1.25.1,<1.26,>=1.21.1 in /usr/local/lib/python3.7/dist-packages (from requests->alpha_vantage) (1.24.3)\n",
            "Requirement already satisfied: chardet<4,>=3.0.2 in /usr/local/lib/python3.7/dist-packages (from requests->alpha_vantage) (3.0.4)\n",
            "Requirement already satisfied: certifi>=2017.4.17 in /usr/local/lib/python3.7/dist-packages (from requests->alpha_vantage) (2022.6.15)\n",
            "Installing collected packages: alpha-vantage\n",
            "Successfully installed alpha-vantage-2.3.1\n"
          ]
        }
      ]
    },
    {
      "cell_type": "code",
      "source": [
        "# Importing libraries\n",
        "import numpy as np\n",
        "import pandas as pd\n",
        "from stocktrends import Renko\n",
        "import statsmodels.api as sm\n",
        "from alpha_vantage.timeseries import TimeSeries\n",
        "import copy\n",
        "import datetime as dt"
      ],
      "metadata": {
        "id": "0Tyvl-iUEqQT"
      },
      "execution_count": 2,
      "outputs": []
    },
    {
      "cell_type": "code",
      "source": [
        "# Below are the KPI functions discussed in Key Performance Measures section\n",
        "def ATR(DF, n):\n",
        "    #\"function to calculate True Range and Average True Range\"\n",
        "    df = DF.copy()\n",
        "    df['H-L'] = abs(df['High'] - df['Low'])\n",
        "    df['H-PC'] = abs(df['High']-df['Adj Close'].shift(1))\n",
        "    df['L-PC'] = abs(df['Low']-df['Adj Close'].shift(1))\n",
        "    df['TR'] = df[['H-L', 'H-PC', 'L-PC']].max(axis=1, skipna=False)\n",
        "    df['ATR'] = df['TR'].rolling(n).mean()\n",
        "    df2 = df.drop(['H-L', 'H-PC', 'L-PC'], axis=1)\n",
        "    return df2\n",
        "\n",
        "def slope(ser, n):\n",
        "    #\"function to calculate the slope of n consecutive points on a plot\"\n",
        "    slopes = [i*0 for i in range(n-1)]\n",
        "    for i in range(n, len(ser)+1):\n",
        "        y = ser[i-n:i]\n",
        "        x - np.array(range(n))\n",
        "        y_scaled = (y - y.min())/(y.max() - y.min())\n",
        "        x_scaled = (x - x.min())/(x.max() - x.min())\n",
        "        x_scaled = sm.add_constant(x_scaled)\n",
        "        model = sm.OLS(y_scaled, x_scaled)\n",
        "        results = model.fit()\n",
        "        slopes.append(results.params[-1])\n",
        "    slope_angle = np.rad2deg((np.arctan(np.array(slopes))))\n",
        "    return np.array(slope_angle)\n",
        "\n",
        "def renko_DF(DF):\n",
        "    #\"function to convert ohlc data into renko bricks\"\n",
        "    df = DF.copy()\n",
        "    df.reset_index(inplace=True)\n",
        "    df = df.iloc[:, [0,1,2,3,4,5]]\n",
        "    df.columns = [\"date\", \"open\", \"high\", \"low\", \"close\", \"volume\"]\n",
        "    df2 = Renko(df)\n",
        "    df2.brick_size = max(0.5, round(ATR(DF, 120)[\"ATR\"][-1],0))\n",
        "    renko_df = df2.get_bricks()\n",
        "    renko_df[\"bar_num\"] = np.where(renko_df[\"uptrend\"]==True, 1, np.where(renko_df[\"uptrend\"]==False, -1, 0))\n",
        "    for i in range(1, len(renko_df[\"bar_num\"])):\n",
        "        if renko_df[\"bar_num\"][i] > 0 and renko_df[\"bar_num\"][i-1] > 0:\n",
        "            renko_df[\"bar_num\"][i] += renko_df[\"bar_num\"][i-1]\n",
        "        elif renko_df[\"bar_num\"][i] < 0 and renko_df[\"bar_num\"][i-1] < 0:\n",
        "            renko_df[\"bar_num\"][i] += renko_df[\"bar_num\"][i-1]\n",
        "    renko_df.drop_duplicates(subset=\"date\", keep=\"last\", inplace=True)\n",
        "    return renko_df\n",
        "\n",
        "def OBV(DF):\n",
        "    #\"function to calculate On Balance Volume\"\n",
        "    df = DF.copy()\n",
        "    df[\"daily_ret\"] = df['Adj Close'].pct_change()\n",
        "    df['direction'] = np.where(df['daily_ret'] >= 0, 1, -1)\n",
        "    df['direction'][0] = 0\n",
        "    df['vol_adj'] = df['Volume'] * df['direction']\n",
        "    df['obv'] = df['vol_adj'].cumsum()\n",
        "    return df['obv']\n",
        "\n",
        "def CAGR(DF):\n",
        "    #\"function to calculate the Cumulative Annual Growth Rate of a trading strategy\"\n",
        "    df = DF.copy()\n",
        "    df[\"cum_return\"] = (1 + df[\"ret\"]).cumprod()\n",
        "    n = len(df)/(252*78)\n",
        "    CAGR = (df[\"cum_return\"].tolist()[-1])**(1/n) - 1\n",
        "    return CAGR\n",
        "\n",
        "def volatility(DF):\n",
        "    #\"function to calculate annualized volatility of a trading strategy\"\n",
        "    df = DF.copy()\n",
        "    vol = df[\"ret\"].std() * np.sqrt(252*78)\n",
        "    return vol\n",
        "\n",
        "def sharpe(DF,rf):\n",
        "    #\"function to calculate sharpe ratio ; rf is the risk free rate\"\n",
        "    df = DF.copy()\n",
        "    sr = (CAGR(df) - rf)/volatility(df)\n",
        "    return sr\n",
        "    \n",
        "\n",
        "def max_dd(DF):\n",
        "    #\"function to calculate max drawdown\"\n",
        "    df = DF.copy()\n",
        "    df[\"cum_return\"] = (1 + df[\"ret\"]).cumprod()\n",
        "    df[\"cum_roll_max\"] = df[\"cum_return\"].cummax()\n",
        "    df[\"drawdown\"] = df[\"cum_roll_max\"] - df[\"cum_return\"]\n",
        "    df[\"drawdown_pct\"] = df[\"drawdown\"]/df[\"cum_roll_max\"]\n",
        "    max_dd = df[\"drawdown_pct\"].max()\n",
        "    return max_dd"
      ],
      "metadata": {
        "id": "majTWd_jE7zC"
      },
      "execution_count": 46,
      "outputs": []
    },
    {
      "cell_type": "code",
      "source": [
        "# Download historical data for DJI constituent stocks\n",
        "tickers = ['MSFT', 'AAPL', 'META', 'AMZN', 'INTC', 'CSCO', 'VZ', 'IBM', 'QCOM', 'LYFT']"
      ],
      "metadata": {
        "id": "YAHxmAUUKVS1"
      },
      "execution_count": 30,
      "outputs": []
    },
    {
      "cell_type": "code",
      "source": [
        "ohlc_intraday = {} # dictionary with ohlc value for each stock\n",
        "key = 'U1F2EWT19UKN9RXR'\n",
        "ts = TimeSeries(key=key, output_format='pandas')\n",
        "attempt = 0 # initializing passthrough variable\n",
        "drop = [] #initializing list to store tickers whose close price was successfully extracted\n",
        "while len(tickers) != 0 and attempt <= 300:\n",
        "    tickers = [j for j in tickers if j not in drop]\n",
        "    for i in range(len(tickers)):\n",
        "        try:\n",
        "            #ohlc_intraday[tickers[i]] = yf.download(tickers[i], period='60d', interval='5m')\n",
        "            ohlc_intraday[tickers[i]] = ts.get_intraday(symbol=tickers[i], interval='5min', outputsize='full')[0]\n",
        "            ohlc_intraday[tickers[i]].columns = [\"Open\", \"High\", \"Low\", \"Adj Close\", \"Volume\"]\n",
        "            drop.append(tickers[i])\n",
        "        except:\n",
        "            print(tickers[i], \" :failed to fetch data... retrying\")\n",
        "            continue\n",
        "    attempt += 1\n",
        "\n",
        "tickers = ohlc_intraday.keys() # redefine tickers variable after removing any tickers with corrupted data"
      ],
      "metadata": {
        "id": "3cecwPMeKye6"
      },
      "execution_count": 31,
      "outputs": []
    },
    {
      "cell_type": "code",
      "source": [
        "tickers"
      ],
      "metadata": {
        "colab": {
          "base_uri": "https://localhost:8080/"
        },
        "id": "DSVeJ9pWMpXC",
        "outputId": "0a588537-ed1a-4118-cb7a-8d20218c4b56"
      },
      "execution_count": 42,
      "outputs": [
        {
          "output_type": "execute_result",
          "data": {
            "text/plain": [
              "dict_keys(['MSFT', 'AAPL', 'META', 'AMZN', 'INTC', 'CSCO', 'VZ', 'IBM', 'QCOM', 'LYFT'])"
            ]
          },
          "metadata": {},
          "execution_count": 42
        }
      ]
    },
    {
      "cell_type": "markdown",
      "source": [
        "### Backtesting Strategy"
      ],
      "metadata": {
        "id": "4fE_qKAxNu9F"
      }
    },
    {
      "cell_type": "code",
      "source": [
        "# Merging renko df with original ohlc df\n",
        "ohlc_renko = {}\n",
        "df = copy.deepcopy(ohlc_intraday)\n",
        "tickers_signal = {}\n",
        "tickers_ret = {}\n",
        "for ticker in tickers:\n",
        "    print(\"Merging for \", ticker)\n",
        "    renko = renko_DF(df[ticker])\n",
        "    renko.columns = [\"Date\", \"open\", \"high\", \"low\", \"close\", \"uptrend\", \"bar_num\"]\n",
        "    df[ticker][\"Date\"] = df[ticker].index\n",
        "    ohlc_renko[ticker] = df[ticker].merge(renko.loc[:, [\"Date\", \"bar_num\"]], how=\"outer\", on=\"Date\")\n",
        "    ohlc_renko[ticker][\"bar_num\"].fillna(method=\"ffill\", inplace=True)\n",
        "    ohlc_renko[ticker][\"obv\"] = OBV(ohlc_renko[ticker])\n",
        "    ohlc_renko[ticker][\"obv_slope\"] = slope(ohlc_renko[ticker][\"obv\"],5)\n",
        "    tickers_signal[ticker] = \"\"\n",
        "    tickers_ret[ticker] = []\n",
        "\n",
        "# Identifying signals and calculating daily returns\n",
        "for ticker in tickers:\n",
        "    print(\"calculating daily returns for \", ticker)\n",
        "    for i in range(len(ohlc_intraday[ticker])):\n",
        "        if tickers_signal[ticker]==\"\":\n",
        "            tickers_ret[ticker].append(0)\n",
        "            if ohlc_renko[ticker][\"bar_num\"][i] >= 2 and ohlc_renko[ticker][\"obv_slope\"][i] > 30:\n",
        "                tickers_signal[ticker] = \"Buy\"\n",
        "            elif ohlc_renko[ticker][\"bar_num\"][i] <= -2 and ohlc_renko[ticker][\"obv_slope\"][i] < -30:\n",
        "                tickers_signal[ticker] = \"Sell\"\n",
        "            \n",
        "        elif tickers_signal[ticker]==\"Buy\":\n",
        "            tickers_ret[ticker].append((ohlc_renko[ticker][\"Adj Close\"][i]/ohlc_renko[ticker][\"Adj Close\"][i-1]) -1)\n",
        "            if ohlc_renko[ticker][\"bar_num\"][i] <= -2 and ohlc_renko[ticker][\"obv_slope\"][i] < -30:\n",
        "                tickers_signal[ticker] = \"Sell\"\n",
        "            elif ohlc_renko[ticker][\"bar_num\"][i] < 2: \n",
        "                tickers_signal[ticker] = \"\"\n",
        "\n",
        "        elif tickers_signal[ticker]==\"Sell\":\n",
        "            tickers_ret[ticker].append((ohlc_renko[ticker][\"Adj Close\"][i-1]/ohlc_renko[ticker][\"Adj Close\"][i]) -1)\n",
        "            if ohlc_renko[ticker][\"bar_num\"][i] >= 2 and ohlc_renko[ticker][\"obv_slope\"][i] > 30:\n",
        "                tickers_signal[ticker] = \"Buy\"\n",
        "            elif ohlc_renko[ticker][\"bar_num\"][i]>-2:\n",
        "                tickers_signal[ticker] = \"\"\n",
        "    ohlc_renko[ticker][\"ret\"] = np.array(tickers_ret[ticker])"
      ],
      "metadata": {
        "colab": {
          "base_uri": "https://localhost:8080/",
          "height": 374
        },
        "id": "NvbLjBWjO9P6",
        "outputId": "31c8dcdc-5006-46ac-b107-e706fee04f3a"
      },
      "execution_count": 47,
      "outputs": [
        {
          "output_type": "stream",
          "name": "stdout",
          "text": [
            "Merging for  MSFT\n"
          ]
        },
        {
          "output_type": "error",
          "ename": "AttributeError",
          "evalue": "ignored",
          "traceback": [
            "\u001b[0;31m---------------------------------------------------------------------------\u001b[0m",
            "\u001b[0;31mAttributeError\u001b[0m                            Traceback (most recent call last)",
            "\u001b[0;32m<ipython-input-47-283c6a7eb675>\u001b[0m in \u001b[0;36m<module>\u001b[0;34m\u001b[0m\n\u001b[1;32m      6\u001b[0m \u001b[0;32mfor\u001b[0m \u001b[0mticker\u001b[0m \u001b[0;32min\u001b[0m \u001b[0mtickers\u001b[0m\u001b[0;34m:\u001b[0m\u001b[0;34m\u001b[0m\u001b[0;34m\u001b[0m\u001b[0m\n\u001b[1;32m      7\u001b[0m     \u001b[0mprint\u001b[0m\u001b[0;34m(\u001b[0m\u001b[0;34m\"Merging for \"\u001b[0m\u001b[0;34m,\u001b[0m \u001b[0mticker\u001b[0m\u001b[0;34m)\u001b[0m\u001b[0;34m\u001b[0m\u001b[0;34m\u001b[0m\u001b[0m\n\u001b[0;32m----> 8\u001b[0;31m     \u001b[0mrenko\u001b[0m \u001b[0;34m=\u001b[0m \u001b[0mrenko_DF\u001b[0m\u001b[0;34m(\u001b[0m\u001b[0mdf\u001b[0m\u001b[0;34m[\u001b[0m\u001b[0mticker\u001b[0m\u001b[0;34m]\u001b[0m\u001b[0;34m)\u001b[0m\u001b[0;34m\u001b[0m\u001b[0;34m\u001b[0m\u001b[0m\n\u001b[0m\u001b[1;32m      9\u001b[0m     \u001b[0mrenko\u001b[0m\u001b[0;34m.\u001b[0m\u001b[0mcolumns\u001b[0m \u001b[0;34m=\u001b[0m \u001b[0;34m[\u001b[0m\u001b[0;34m\"Date\"\u001b[0m\u001b[0;34m,\u001b[0m \u001b[0;34m\"open\"\u001b[0m\u001b[0;34m,\u001b[0m \u001b[0;34m\"high\"\u001b[0m\u001b[0;34m,\u001b[0m \u001b[0;34m\"low\"\u001b[0m\u001b[0;34m,\u001b[0m \u001b[0;34m\"close\"\u001b[0m\u001b[0;34m,\u001b[0m \u001b[0;34m\"uptrend\"\u001b[0m\u001b[0;34m,\u001b[0m \u001b[0;34m\"bar_num\"\u001b[0m\u001b[0;34m]\u001b[0m\u001b[0;34m\u001b[0m\u001b[0;34m\u001b[0m\u001b[0m\n\u001b[1;32m     10\u001b[0m     \u001b[0mdf\u001b[0m\u001b[0;34m[\u001b[0m\u001b[0mticker\u001b[0m\u001b[0;34m]\u001b[0m\u001b[0;34m[\u001b[0m\u001b[0;34m\"Date\"\u001b[0m\u001b[0;34m]\u001b[0m \u001b[0;34m=\u001b[0m \u001b[0mdf\u001b[0m\u001b[0;34m[\u001b[0m\u001b[0mticker\u001b[0m\u001b[0;34m]\u001b[0m\u001b[0;34m.\u001b[0m\u001b[0mindex\u001b[0m\u001b[0;34m\u001b[0m\u001b[0;34m\u001b[0m\u001b[0m\n",
            "\u001b[0;32m<ipython-input-46-d3968e600183>\u001b[0m in \u001b[0;36mrenko_DF\u001b[0;34m(DF)\u001b[0m\n\u001b[1;32m     34\u001b[0m     \u001b[0mdf2\u001b[0m \u001b[0;34m=\u001b[0m \u001b[0mRenko\u001b[0m\u001b[0;34m(\u001b[0m\u001b[0mdf\u001b[0m\u001b[0;34m)\u001b[0m\u001b[0;34m\u001b[0m\u001b[0;34m\u001b[0m\u001b[0m\n\u001b[1;32m     35\u001b[0m     \u001b[0mdf2\u001b[0m\u001b[0;34m.\u001b[0m\u001b[0mbrick_size\u001b[0m \u001b[0;34m=\u001b[0m \u001b[0mmax\u001b[0m\u001b[0;34m(\u001b[0m\u001b[0;36m0.5\u001b[0m\u001b[0;34m,\u001b[0m \u001b[0mround\u001b[0m\u001b[0;34m(\u001b[0m\u001b[0mATR\u001b[0m\u001b[0;34m(\u001b[0m\u001b[0mDF\u001b[0m\u001b[0;34m,\u001b[0m \u001b[0;36m120\u001b[0m\u001b[0;34m)\u001b[0m\u001b[0;34m[\u001b[0m\u001b[0;34m\"ATR\"\u001b[0m\u001b[0;34m]\u001b[0m\u001b[0;34m[\u001b[0m\u001b[0;34m-\u001b[0m\u001b[0;36m1\u001b[0m\u001b[0;34m]\u001b[0m\u001b[0;34m,\u001b[0m\u001b[0;36m0\u001b[0m\u001b[0;34m)\u001b[0m\u001b[0;34m)\u001b[0m\u001b[0;34m\u001b[0m\u001b[0;34m\u001b[0m\u001b[0m\n\u001b[0;32m---> 36\u001b[0;31m     \u001b[0mrenko_df\u001b[0m \u001b[0;34m=\u001b[0m \u001b[0mdf2\u001b[0m\u001b[0;34m.\u001b[0m\u001b[0mget_bricks\u001b[0m\u001b[0;34m(\u001b[0m\u001b[0;34m)\u001b[0m\u001b[0;34m\u001b[0m\u001b[0;34m\u001b[0m\u001b[0m\n\u001b[0m\u001b[1;32m     37\u001b[0m     \u001b[0mrenko_df\u001b[0m\u001b[0;34m[\u001b[0m\u001b[0;34m\"bar_num\"\u001b[0m\u001b[0;34m]\u001b[0m \u001b[0;34m=\u001b[0m \u001b[0mnp\u001b[0m\u001b[0;34m.\u001b[0m\u001b[0mwhere\u001b[0m\u001b[0;34m(\u001b[0m\u001b[0mrenko_df\u001b[0m\u001b[0;34m[\u001b[0m\u001b[0;34m\"uptrend\"\u001b[0m\u001b[0;34m]\u001b[0m\u001b[0;34m==\u001b[0m\u001b[0;32mTrue\u001b[0m\u001b[0;34m,\u001b[0m \u001b[0;36m1\u001b[0m\u001b[0;34m,\u001b[0m \u001b[0mnp\u001b[0m\u001b[0;34m.\u001b[0m\u001b[0mwhere\u001b[0m\u001b[0;34m(\u001b[0m\u001b[0mrenko_df\u001b[0m\u001b[0;34m[\u001b[0m\u001b[0;34m\"uptrend\"\u001b[0m\u001b[0;34m]\u001b[0m\u001b[0;34m==\u001b[0m\u001b[0;32mFalse\u001b[0m\u001b[0;34m,\u001b[0m \u001b[0;34m-\u001b[0m\u001b[0;36m1\u001b[0m\u001b[0;34m,\u001b[0m \u001b[0;36m0\u001b[0m\u001b[0;34m)\u001b[0m\u001b[0;34m)\u001b[0m\u001b[0;34m\u001b[0m\u001b[0;34m\u001b[0m\u001b[0m\n\u001b[1;32m     38\u001b[0m     \u001b[0;32mfor\u001b[0m \u001b[0mi\u001b[0m \u001b[0;32min\u001b[0m \u001b[0mrange\u001b[0m\u001b[0;34m(\u001b[0m\u001b[0;36m1\u001b[0m\u001b[0;34m,\u001b[0m \u001b[0mlen\u001b[0m\u001b[0;34m(\u001b[0m\u001b[0mrenko_df\u001b[0m\u001b[0;34m[\u001b[0m\u001b[0;34m\"bar_num\"\u001b[0m\u001b[0;34m]\u001b[0m\u001b[0;34m)\u001b[0m\u001b[0;34m)\u001b[0m\u001b[0;34m:\u001b[0m\u001b[0;34m\u001b[0m\u001b[0;34m\u001b[0m\u001b[0m\n",
            "\u001b[0;31mAttributeError\u001b[0m: 'Renko' object has no attribute 'get_bricks'"
          ]
        }
      ]
    },
    {
      "cell_type": "code",
      "source": [],
      "metadata": {
        "id": "5_qpoSbITefN"
      },
      "execution_count": null,
      "outputs": []
    }
  ]
}