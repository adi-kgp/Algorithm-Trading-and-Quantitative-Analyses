{
  "nbformat": 4,
  "nbformat_minor": 0,
  "metadata": {
    "colab": {
      "provenance": []
    },
    "kernelspec": {
      "name": "python3",
      "display_name": "Python 3"
    },
    "language_info": {
      "name": "python"
    }
  },
  "cells": [
    {
      "cell_type": "code",
      "execution_count": 16,
      "metadata": {
        "id": "hwTsgDnaj9uU"
      },
      "outputs": [],
      "source": [
        "# Importing necessary libraries\n",
        "import requests\n",
        "from bs4 import BeautifulSoup\n",
        "import pandas as pd"
      ]
    },
    {
      "cell_type": "code",
      "source": [
        "# List of tickers whose financial information needs to be extracted\n",
        "tickers = [\"MMM\",\"AXP\",\"AAPL\",\"BA\",\"CAT\",\"CVX\",\"CSCO\",\"KO\",\"DIS\",\"DWDP\",\n",
        "           \"XOM\",\"GE\",\"GS\",\"HD\",\"IBM\",\"INTC\",\"JNJ\",\"JPM\",\"MCD\",\"MRK\",\n",
        "           \"MSFT\",\"NKE\",\"PFE\",\"PG\",\"TRV\",\"UTX\",\"UNH\",\"VZ\",\"V\",\"WMT\"]"
      ],
      "metadata": {
        "id": "r2F3qgHOma5S"
      },
      "execution_count": 17,
      "outputs": []
    },
    {
      "cell_type": "code",
      "source": [
        "financial_dir = {} # directory to store financial information for each ticker"
      ],
      "metadata": {
        "id": "U7597Qqjmqto"
      },
      "execution_count": 63,
      "outputs": []
    },
    {
      "cell_type": "code",
      "source": [
        "for ticker in tickers:\n",
        "    try:\n",
        "        print(\"scraping financial statement data for \", ticker)\n",
        "        #getting balance sheet statement data\n",
        "        url = \"https://stockrow.com/api/companies/{}/financials.xlsx?dimension=A&section=Balance%20Sheet&sort=desc\".format(ticker)\n",
        "        df1 = pd.read_excel(url)\n",
        "        # getting income statement data\n",
        "        url = \"https://stockrow.com/api/companies/{}/financials.xlsx?dimension=A&section=Income%20Statement&sort=desc\".format(ticker)\n",
        "        df2 = pd.read_excel(url)        \n",
        "        # getting cashflow statement data\n",
        "        url = \"https://stockrow.com/api/companies/{}/financials.xlsx?dimension=A&section=Cash%20Flow&sort=desc\".format(ticker)\n",
        "        df3 = pd.read_excel(url)\n",
        "\n",
        "        #combining all extracted information with the corresponding ticker\n",
        "        df = pd.concat([df1, df2, df3])\n",
        "        columns = df.columns.values\n",
        "        for i in range(len(columns)):\n",
        "            if columns[i] == \"Unnamed: 0\":\n",
        "                columns[i] = \"heading\"\n",
        "            else:\n",
        "                columns[i] = columns[i].strftime(\"%Y-%m-%d\")\n",
        "        df.columns = columns\n",
        "        df.set_index(\"heading\", inplace=True)      \n",
        "        financial_dir[ticker] = df\n",
        "    except Exception as e:\n",
        "        print(ticker, \":\", e)"
      ],
      "metadata": {
        "colab": {
          "base_uri": "https://localhost:8080/"
        },
        "id": "tgF2FSjtnEqB",
        "outputId": "3900d3b4-0e66-4954-a847-9e9629b2409c"
      },
      "execution_count": 64,
      "outputs": [
        {
          "output_type": "stream",
          "name": "stdout",
          "text": [
            "scraping financial statement data for  MMM\n",
            "scraping financial statement data for  AXP\n",
            "scraping financial statement data for  AAPL\n",
            "scraping financial statement data for  BA\n",
            "scraping financial statement data for  CAT\n",
            "scraping financial statement data for  CVX\n",
            "scraping financial statement data for  CSCO\n",
            "scraping financial statement data for  KO\n",
            "scraping financial statement data for  DIS\n",
            "scraping financial statement data for  DWDP\n",
            "DWDP : HTTP Error 404: Not Found\n",
            "scraping financial statement data for  XOM\n",
            "scraping financial statement data for  GE\n",
            "scraping financial statement data for  GS\n",
            "scraping financial statement data for  HD\n",
            "scraping financial statement data for  IBM\n",
            "scraping financial statement data for  INTC\n",
            "scraping financial statement data for  JNJ\n",
            "scraping financial statement data for  JPM\n",
            "scraping financial statement data for  MCD\n",
            "scraping financial statement data for  MRK\n",
            "scraping financial statement data for  MSFT\n",
            "scraping financial statement data for  NKE\n",
            "scraping financial statement data for  PFE\n",
            "scraping financial statement data for  PG\n",
            "scraping financial statement data for  TRV\n",
            "scraping financial statement data for  UTX\n",
            "UTX : HTTP Error 404: Not Found\n",
            "scraping financial statement data for  UNH\n",
            "scraping financial statement data for  VZ\n",
            "scraping financial statement data for  V\n",
            "scraping financial statement data for  WMT\n"
          ]
        }
      ]
    },
    {
      "cell_type": "code",
      "source": [
        "# Creating dataframe with relevant financial information for each stock using fundamental data\n",
        "stats = [\"Net Income Common\",\n",
        "         \"Total Assets\",\n",
        "         \"Operating Cash Flow\",\n",
        "         \"Long Term Debt (Total)\",\n",
        "         \"Total non-current liabilities\",\n",
        "         \"Total current assets\",\n",
        "         \"Total current liabilities\",\n",
        "         \"Common Equity (Total)\",\n",
        "         \"Revenue\",\n",
        "         \"Gross Profit\"] # change as required\n",
        "\n",
        "indx = [\"NetIncome\",\"TotAssets\",\"CashFlowOps\",\"LTDebt\",\"TotLTLiab\",\"CurrAssets\",\"CurrLiab\",\"CommStock\",\"TotRevenue\",\"GrossProfit\"]\n",
        "\n",
        "def info_filter(df, stats, indx, lookback):\n",
        "    \"\"\" function to filter relevant financial information \n",
        "    df = dataframe to be filtered\n",
        "    stats = headings to filter\n",
        "    indx = rename long headings\n",
        "    lookback = number of years of data to be retained\"\"\"\n",
        "    for stat in stats:\n",
        "        if stat not in df.index:\n",
        "            return\n",
        "    df_new = df.loc[stats,df.columns[:lookback]]\n",
        "    df_new.rename(dict(zip(stats, indx)), inplace=True)\n",
        "    df_new.loc[\"OtherLTDebt\", :] = df_new.loc[\"TotLTLiab\",:] - df_new.loc[\"LTDebt\", :]\n",
        "    return df_new"
      ],
      "metadata": {
        "id": "xjdlBpvUDR3K"
      },
      "execution_count": 71,
      "outputs": []
    },
    {
      "cell_type": "code",
      "source": [
        "# applying filtering to the financials\n",
        "transformed_df = {}\n",
        "for ticker in financial_dir:\n",
        "    transformed_df[ticker] = info_filter(financial_dir[ticker], stats, indx, 3)"
      ],
      "metadata": {
        "id": "c8OhruXC7AZs"
      },
      "execution_count": 72,
      "outputs": []
    },
    {
      "cell_type": "code",
      "source": [
        "# Application of Piotroski F Score \n",
        "def piotroski_f(df_dict):\n",
        "    # function to calculate f score of each stock and output information as dataframe\n",
        "    f_score = {}\n",
        "    for ticker in df_dict:\n",
        "        columns = df_dict[ticker].columns\n",
        "        \n",
        "        ROA_FS = int(df_dict[ticker].loc[\"NetIncome\", columns[0]]/((df_dict[ticker].loc[\"TotAssets\", columns[0]] + df_dict[ticker].loc[\"TotAssets\", columns[1]])/2) > 0)\n",
        "        \n",
        "        CFO_FS = int(df_dict[ticker].loc[\"CashFlowOps\", columns[0]] > 0)\n",
        "        \n",
        "        ROA_D_FS = int((df_dict[ticker].loc[\"NetIncome\", columns[0]]/((df_dict[ticker].loc[\"TotAssets\", columns[0]] + df_dict[ticker].loc[\"TotAssets\", columns[1]])/2)) >\n",
        "                    (df_dict[ticker].loc[\"NetIncome\", columns[1]]/((df_dict[ticker].loc[\"TotAssets\", columns[1]] + df_dict[ticker].loc[\"TotAssets\", columns[2]])/2)))\n",
        "        \n",
        "        CFO_ROA_FS = int(df_dict[ticker].loc[\"CashFlowOps\", columns[0]]/df_dict[ticker].loc[\"TotAssets\", columns[0]] >\n",
        "                    (df_dict[ticker].loc[\"NetIncome\", columns[0]]/(df_dict[ticker].loc[\"TotAssets\", columns[0]] + df_dict[ticker].loc[\"TotAssets\", columns[1]])/2))\n",
        "        \n",
        "        LTD_FS = int((df_dict[ticker].loc[\"LTDebt\", columns[0]] + df_dict[ticker].loc[\"OtherLTDebt\", columns[0]]) < (df_dict[ticker].loc[\"LTDebt\", columns[1]] + df_dict[ticker].loc[\"OtherLTDebt\", columns[1]]))\n",
        "        \n",
        "        CR_FS = int(df_dict[ticker].loc[\"CurrAssets\", columns[0]] / df_dict[ticker].loc[\"CurrLiab\", columns[0]] > df_dict[ticker].loc[\"CurrAssets\", columns[1]] / df_dict[ticker].loc[\"CurrLiab\", columns[1]])\n",
        "\n",
        "        DILUTION_FS = int(df_dict[ticker].loc[\"CommStock\", columns[0]] <= df_dict[ticker].loc[\"CommStock\", columns[1]])\n",
        "\n",
        "        GM_FS = int(df_dict[ticker].loc[\"GrossProfit\", columns[0]] / df_dict[ticker].loc[\"TotRevenue\", columns[0]] > df_dict[ticker].loc[\"GrossProfit\", columns[1]] / df_dict[ticker].loc[\"TotRevenue\", columns[1]])\n",
        "\n",
        "        ATO_FS = int(df_dict[ticker].loc[\"TotRevenue\", columns[0]]/((df_dict[ticker].loc[\"TotAssets\", columns[0]]+df_dict[ticker].loc[\"TotAssets\", columns[1]])/2) > \n",
        "                    df_dict[ticker].loc[\"TotRevenue\", columns[1]] / ((df_dict[ticker].loc[\"TotAssets\", columns[1]] + df_dict[ticker].loc[\"TotAssets\", columns[2]])/2))\n",
        "\n",
        "        f_score[ticker] = [ROA_FS, CFO_FS, ROA_D_FS, CFO_ROA_FS, LTD_FS, CR_FS, DILUTION_FS, GM_FS, ATO_FS]\n",
        "\n",
        "    f_score_df = pd.DataFrame(f_score, index=[\"PosROA\", \"PosCFO\", \"ROAChange\", \"Accruals\", \"Leverage\", \"Liquidity\", \"Dilution\", \"GM\", \"ATO\"])\n",
        "\n",
        "    return f_score_df"
      ],
      "metadata": {
        "id": "1GEaB6s-Ky68"
      },
      "execution_count": 86,
      "outputs": []
    },
    {
      "cell_type": "code",
      "source": [
        "# sorting stocks with highest Piotroski f score to lowest\n",
        "f_score_df = piotroski_f(transformed_df)\n",
        "f_score_df.sum().sort_values(ascending=False)"
      ],
      "metadata": {
        "colab": {
          "base_uri": "https://localhost:8080/"
        },
        "id": "Ik0sO8bdVMYl",
        "outputId": "238fa56f-8041-4098-af5e-c99e310b7404"
      },
      "execution_count": 87,
      "outputs": [
        {
          "output_type": "execute_result",
          "data": {
            "text/plain": [
              "AXP     9\n",
              "XOM     8\n",
              "JNJ     8\n",
              "DIS     7\n",
              "PFE     7\n",
              "IBM     7\n",
              "TRV     7\n",
              "MRK     7\n",
              "MCD     7\n",
              "KO      7\n",
              "CSCO    7\n",
              "CVX     7\n",
              "CAT     7\n",
              "V       7\n",
              "AAPL    7\n",
              "UNH     6\n",
              "PG      6\n",
              "MMM     6\n",
              "WMT     6\n",
              "GS      6\n",
              "MSFT    5\n",
              "NKE     5\n",
              "JPM     5\n",
              "HD      5\n",
              "GE      5\n",
              "INTC    5\n",
              "VZ      4\n",
              "BA      4\n",
              "dtype: int64"
            ]
          },
          "metadata": {},
          "execution_count": 87
        }
      ]
    },
    {
      "cell_type": "code",
      "source": [],
      "metadata": {
        "colab": {
          "base_uri": "https://localhost:8080/",
          "height": 288
        },
        "id": "BAezyMq5V1Cm",
        "outputId": "ba658d72-21de-497f-b7b4-82cdf38a8b0a"
      },
      "execution_count": 80,
      "outputs": [
        {
          "output_type": "error",
          "ename": "TypeError",
          "evalue": "ignored",
          "traceback": [
            "\u001b[0;31m---------------------------------------------------------------------------\u001b[0m",
            "\u001b[0;31mTypeError\u001b[0m                                 Traceback (most recent call last)",
            "\u001b[0;32m<ipython-input-80-20e3a7eedbe4>\u001b[0m in \u001b[0;36m<module>\u001b[0;34m\u001b[0m\n\u001b[0;32m----> 1\u001b[0;31m \u001b[0mint\u001b[0m\u001b[0;34m(\u001b[0m\u001b[0mtransformed_df\u001b[0m\u001b[0;34m[\u001b[0m\u001b[0;34m'AAPL'\u001b[0m\u001b[0;34m]\u001b[0m\u001b[0;34m.\u001b[0m\u001b[0miloc\u001b[0m\u001b[0;34m[\u001b[0m\u001b[0;34m:\u001b[0m\u001b[0;34m,\u001b[0m \u001b[0;36m1\u001b[0m\u001b[0;34m]\u001b[0m \u001b[0;34m>\u001b[0m \u001b[0;36m0\u001b[0m\u001b[0;34m)\u001b[0m\u001b[0;34m\u001b[0m\u001b[0;34m\u001b[0m\u001b[0m\n\u001b[0m",
            "\u001b[0;32m/usr/local/lib/python3.7/dist-packages/pandas/core/series.py\u001b[0m in \u001b[0;36mwrapper\u001b[0;34m(self)\u001b[0m\n\u001b[1;32m    183\u001b[0m         \u001b[0;32mif\u001b[0m \u001b[0mlen\u001b[0m\u001b[0;34m(\u001b[0m\u001b[0mself\u001b[0m\u001b[0;34m)\u001b[0m \u001b[0;34m==\u001b[0m \u001b[0;36m1\u001b[0m\u001b[0;34m:\u001b[0m\u001b[0;34m\u001b[0m\u001b[0;34m\u001b[0m\u001b[0m\n\u001b[1;32m    184\u001b[0m             \u001b[0;32mreturn\u001b[0m \u001b[0mconverter\u001b[0m\u001b[0;34m(\u001b[0m\u001b[0mself\u001b[0m\u001b[0;34m.\u001b[0m\u001b[0miloc\u001b[0m\u001b[0;34m[\u001b[0m\u001b[0;36m0\u001b[0m\u001b[0;34m]\u001b[0m\u001b[0;34m)\u001b[0m\u001b[0;34m\u001b[0m\u001b[0;34m\u001b[0m\u001b[0m\n\u001b[0;32m--> 185\u001b[0;31m         \u001b[0;32mraise\u001b[0m \u001b[0mTypeError\u001b[0m\u001b[0;34m(\u001b[0m\u001b[0;34mf\"cannot convert the series to {converter}\"\u001b[0m\u001b[0;34m)\u001b[0m\u001b[0;34m\u001b[0m\u001b[0;34m\u001b[0m\u001b[0m\n\u001b[0m\u001b[1;32m    186\u001b[0m \u001b[0;34m\u001b[0m\u001b[0m\n\u001b[1;32m    187\u001b[0m     \u001b[0mwrapper\u001b[0m\u001b[0;34m.\u001b[0m\u001b[0m__name__\u001b[0m \u001b[0;34m=\u001b[0m \u001b[0;34mf\"__{converter.__name__}__\"\u001b[0m\u001b[0;34m\u001b[0m\u001b[0;34m\u001b[0m\u001b[0m\n",
            "\u001b[0;31mTypeError\u001b[0m: cannot convert the series to <class 'int'>"
          ]
        }
      ]
    },
    {
      "cell_type": "code",
      "source": [],
      "metadata": {
        "id": "vcq1cBQfWaz4"
      },
      "execution_count": null,
      "outputs": []
    }
  ]
}