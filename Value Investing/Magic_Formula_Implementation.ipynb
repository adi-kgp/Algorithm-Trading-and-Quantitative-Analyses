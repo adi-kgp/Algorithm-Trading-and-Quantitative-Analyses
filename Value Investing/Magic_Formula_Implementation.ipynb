{
  "nbformat": 4,
  "nbformat_minor": 0,
  "metadata": {
    "colab": {
      "provenance": []
    },
    "kernelspec": {
      "name": "python3",
      "display_name": "Python 3"
    },
    "language_info": {
      "name": "python"
    }
  },
  "cells": [
    {
      "cell_type": "markdown",
      "source": [
        "### Magic Formula Implementation "
      ],
      "metadata": {
        "id": "hVwW9nbQ0mmH"
      }
    },
    {
      "cell_type": "code",
      "source": [
        "import requests\n",
        "from bs4 import BeautifulSoup\n",
        "import pandas as pd"
      ],
      "metadata": {
        "id": "wV1s26Yh1CXx"
      },
      "execution_count": 16,
      "outputs": []
    },
    {
      "cell_type": "code",
      "source": [
        "tickers = [\"MMM\",\"AXP\",\"AAPL\",\"BA\",\"CAT\",\"CVX\",\"CSCO\",\"KO\",\"DIS\",\"DWDP\",\n",
        "           \"XOM\",\"GE\",\"GS\",\"HD\",\"IBM\",\"INTC\",\"JNJ\",\"JPM\",\"MCD\",\"MRK\",\n",
        "           \"MSFT\",\"NKE\",\"PFE\",\"PG\",\"TRV\",\"UTX\",\"UNH\",\"VZ\",\"V\",\"WMT\"]"
      ],
      "metadata": {
        "id": "iEjWkz7y1K8I"
      },
      "execution_count": 17,
      "outputs": []
    },
    {
      "cell_type": "code",
      "source": [
        "financial_dir = {}\n",
        "\n",
        "for ticker in tickers:\n",
        "    try:\n",
        "        print(\"Scraping financial data statement data for \", ticker)\n",
        "        # getting balance sheet data\n",
        "        url = \"https://stockrow.com/api/companies/{}/financials.xlsx?dimension=A&section=Balance%20Sheet&sort=desc\".format(ticker)\n",
        "        df1 = pd.read_excel(url)\n",
        "        # getting income statement data\n",
        "        url = \"https://stockrow.com/api/companies/{}/financials.xlsx?dimension=A&section=Income%20Statement&sort=desc\".format(ticker)\n",
        "        df2 = pd.read_excel(url)        \n",
        "        # getting cashflow statement data\n",
        "        url = \"https://stockrow.com/api/companies/{}/financials.xlsx?dimension=A&section=Cash%20Flow&sort=desc\".format(ticker)\n",
        "        df3 = pd.read_excel(url)\n",
        "\n",
        "        #getting key statistics data from yahoo finance for the given ticker\n",
        "        temp_dir = {}\n",
        "        url = 'https://finance.yahoo.com/quote/'+ticker+'/key-statistics?p='+ticker\n",
        "        headers = {'User-Agent':\"Chrome/104.0.5112.110\"}\n",
        "        page = requests.get(url, headers=headers)\n",
        "        page_content = page.content\n",
        "        soup = BeautifulSoup(page_content, 'html.parser')\n",
        "        tabl = soup.findAll(\"table\", {\"class\": \"W(100%) Bdcl(c)\"})\n",
        "        for t in tabl:\n",
        "            rows = t.find_all(\"tr\")\n",
        "            for row in rows:\n",
        "                if len(row.get_text(separator='|').split(\"|\")[0:2]) > 0:\n",
        "                    temp_dir[row.get_text(separator='|').split(\"|\")[0]] = row.get_text(separator='|').split(\"|\")[-1]\n",
        "        df4 = pd.DataFrame(temp_dir.items(), columns=df3.columns[0:2])\n",
        "        df4.iloc[:,1] = df4.iloc[:,1].replace({'M': 'E+03', 'B': 'E+06', 'T': 'E+09', '%': 'E-02'}, regex=True)\n",
        "        df4.iloc[:,1] = pd.to_numeric(df4.iloc[:,1], errors=\"coerce\")\n",
        "        df4 = df4[df4[\"Unnamed: 0\"].isin([\"Market Cap (intraday)\", \"Forward Annual Dividend Yield\"])]\n",
        "\n",
        "        #combining all extracted information with the corresponding ticker\n",
        "        df = pd.concat([df1, df2, df3, df4]).iloc[:,[0,1]]\n",
        "        columns = df.columns.values\n",
        "\n",
        "        for i in range(len(columns)):\n",
        "            if columns[i] == \"Unnamed: 0\":\n",
        "                columns[i] = \"heading\"\n",
        "            else:\n",
        "                columns[i] = columns[i].strftime(\"%Y-%m-%d\")\n",
        "        df.columns = columns\n",
        "        df.set_index(\"heading\", inplace=True)\n",
        "        financial_dir[ticker] = df\n",
        "    except Exception as e:\n",
        "        print(ticker, \":\", e)"
      ],
      "metadata": {
        "colab": {
          "base_uri": "https://localhost:8080/"
        },
        "id": "3nYsy-jo44oi",
        "outputId": "c02aab52-1e84-47a9-847a-4ba973b0f9a0"
      },
      "execution_count": 18,
      "outputs": [
        {
          "output_type": "stream",
          "name": "stdout",
          "text": [
            "Scraping financial data statement data for  MMM\n",
            "Scraping financial data statement data for  AXP\n",
            "Scraping financial data statement data for  AAPL\n",
            "Scraping financial data statement data for  BA\n",
            "Scraping financial data statement data for  CAT\n",
            "Scraping financial data statement data for  CVX\n",
            "Scraping financial data statement data for  CSCO\n",
            "Scraping financial data statement data for  KO\n",
            "Scraping financial data statement data for  DIS\n",
            "Scraping financial data statement data for  DWDP\n",
            "DWDP : HTTP Error 404: Not Found\n",
            "Scraping financial data statement data for  XOM\n",
            "Scraping financial data statement data for  GE\n",
            "Scraping financial data statement data for  GS\n",
            "Scraping financial data statement data for  HD\n",
            "Scraping financial data statement data for  IBM\n",
            "Scraping financial data statement data for  INTC\n",
            "Scraping financial data statement data for  JNJ\n",
            "Scraping financial data statement data for  JPM\n",
            "Scraping financial data statement data for  MCD\n",
            "Scraping financial data statement data for  MRK\n",
            "Scraping financial data statement data for  MSFT\n",
            "Scraping financial data statement data for  NKE\n",
            "Scraping financial data statement data for  PFE\n",
            "Scraping financial data statement data for  PG\n",
            "Scraping financial data statement data for  TRV\n",
            "Scraping financial data statement data for  UTX\n",
            "UTX : HTTP Error 404: Not Found\n",
            "Scraping financial data statement data for  UNH\n",
            "Scraping financial data statement data for  VZ\n",
            "Scraping financial data statement data for  V\n",
            "Scraping financial data statement data for  WMT\n"
          ]
        }
      ]
    },
    {
      "cell_type": "code",
      "source": [
        "# sample\n",
        "financial_dir['V'].index.values"
      ],
      "metadata": {
        "colab": {
          "base_uri": "https://localhost:8080/"
        },
        "id": "L38EnoTcbVPR",
        "outputId": "88113a7d-c20e-4ab1-fca0-84f8812e4ecd"
      },
      "execution_count": 19,
      "outputs": [
        {
          "output_type": "execute_result",
          "data": {
            "text/plain": [
              "array(['Cash and Short Term Investments', 'Receivables',\n",
              "       'Other current assets', 'Total current assets',\n",
              "       'Property, Plant, Equpment (Net)', 'Long-Term Investments',\n",
              "       'Goodwill and Intangible Assets (Total)',\n",
              "       'Long-term assets (Other)', 'Total non-current assets',\n",
              "       'Total Assets', 'Accounts Payable', 'Dividends Payable',\n",
              "       'Accrued Expenses', 'Current Part of Debt',\n",
              "       'Other current liabilities', 'Total current liabilities',\n",
              "       'Long Term Debt (Total)', 'Long Term Tax Liability (Deferred)',\n",
              "       'Non-current Liabilities (Other)', 'Total non-current liabilities',\n",
              "       'Total liabilities', 'Additional Paid In Capital',\n",
              "       'Preferred Stock (Total)', 'Retained Earnings', 'Treasury Stock',\n",
              "       'Shareholders Equity (Other)', 'Common Equity (Total)',\n",
              "       'Shareholders Equity (Total)',\n",
              "       'Shareholders Equity and Liabilities (Total)', 'Shares (Common)',\n",
              "       'Shares (Preferred)', 'Shareholders Equity (Tangible)', 'Net Debt',\n",
              "       'Total Debt', 'Revenue', 'Revenue Growth', 'Cost of Revenue',\n",
              "       'Gross Profit', 'SG&A Expenses', 'Operating Income',\n",
              "       'Interest Expense (Operating)', 'Non-operating Income/Expense',\n",
              "       'Non-operating Interest Expenses', 'EBT', 'Income Tax Provision',\n",
              "       'Income after Tax', 'Non-Controlling Interest',\n",
              "       'Net Income Common', 'EPS (Basic)', 'EPS (Diluted)',\n",
              "       'Shares (Basic, Weighted)', 'Shares (Diluted, Weighted)',\n",
              "       'Gross Margin', 'EBIT Margin', 'EBT margin', 'Net Profit Margin',\n",
              "       'Free Cash Flow Margin', 'EBITDA', 'EBIT',\n",
              "       'Income from Continuous Operations',\n",
              "       'Consolidated Net Income/Loss', 'EPS (Basic, from Continuous Ops)',\n",
              "       'EPS (Basic, Consolidated)', 'EPS (Diluted, from Cont. Ops)',\n",
              "       'Shares (Diluted, Average)', 'EPS (Diluted, Consolidated)',\n",
              "       'EBITDA Margin', 'Operating Cash Flow Margin', 'Net Income',\n",
              "       'Depreciation & Amortization', 'Non Cash Items (Other)',\n",
              "       'Accounts Receivable Change', 'Accounts Payable Change',\n",
              "       'Change in payables and accrued liability', 'Income tax paid',\n",
              "       'Change in other assets and liabilities', 'Operating Cash Flow',\n",
              "       'Capital expenditures', 'Net Aquisitions',\n",
              "       'Short Term Investments Change (Net)',\n",
              "       'Long-Term Investments Change (Net)', 'Other investing activities',\n",
              "       'Investing cash flow', 'Repayment/Issuance of Debt (Net)',\n",
              "       'Equity Repurchase (Common, Net)', 'Dividends Paid (Total)',\n",
              "       'Other financial activities', 'Financing cash flow',\n",
              "       'Exchange Rate Adjustment', 'Change in Cash', 'Beginning Cash',\n",
              "       'Ending Cash', 'Stock Based Compensation',\n",
              "       'Dividends Paid (Common)', 'Net Cash/Marketcap',\n",
              "       'Assets Liabilities Change (Total)', 'Investments Change (Net)',\n",
              "       'Issuance/Purchase of Shares', 'Capital Stock Change'],\n",
              "      dtype=object)"
            ]
          },
          "metadata": {},
          "execution_count": 19
        }
      ]
    },
    {
      "cell_type": "code",
      "source": [
        "# Creating dataframe with relevant financial information for each stock using fundamental data\n",
        "stats = [\"EBITDA\",\n",
        "         \"Depreciation & Amortization\",\n",
        "         \"Net Cash/Marketcap\",\n",
        "         \"Net Income Common\",\n",
        "         \"Operating Cash Flow\",\n",
        "         \"Capital expenditures\",\n",
        "         \"Total current assets\",\n",
        "         \"Total current liabilities\",\n",
        "         \"Property, Plant, Equpment (Net)\",\n",
        "         \"Shareholders Equity (Total)\",\n",
        "         \"Long Term Debt (Total)\",\n",
        "         \"Dividends Paid (Total)\"] # change as required\n",
        "\n",
        "indx = [\"EBITDA\", \"D&A\", \"MarketCap\", \"NetIncome\", \"CashFlowOps\", \"Capex\", \"CurrAsset\", \"CurrLiab\", \"PPE\", \"BookValue\", \"TotDebt\", \"DivYield\"]\n",
        "\n",
        "def info_filter(df, stats, indx):\n",
        "    \"\"\" function to filter relevant financial information \n",
        "    df = dataframe to be filtered\n",
        "    stats = headings to filter\n",
        "    indx = rename long headings\n",
        "    lookback = number of years of data to be retained\"\"\"\n",
        "    for stat in stats:\n",
        "        if stat not in df.index:\n",
        "            return\n",
        "    df_new = df.loc[stats,:]\n",
        "    df_new.rename(dict(zip(stats, indx)), inplace=True)\n",
        "    return df_new"
      ],
      "metadata": {
        "id": "TEib0Bf3Wf7m"
      },
      "execution_count": 20,
      "outputs": []
    },
    {
      "cell_type": "code",
      "source": [
        "# applying filtering to the financials and calculating relevant financial metrics for each stock\n",
        "transformed_df = {}\n",
        "for ticker in financial_dir:\n",
        "    transformed_df[ticker] = info_filter(financial_dir[ticker], stats, indx)\n",
        "    if transformed_df[ticker] is None:\n",
        "        del transformed_df[ticker]\n",
        "        continue\n",
        "    transformed_df[ticker].loc[\"EBIT\",:] = transformed_df[ticker].loc[\"EBITDA\",:] - transformed_df[ticker].loc[\"D&A\",:]\n",
        "    transformed_df[ticker].loc[\"TEV\",:] = transformed_df[ticker].loc[\"MarketCap\",:] + transformed_df[ticker].loc[\"TotDebt\",:] - (transformed_df[ticker].loc[\"CurrAsset\",:] - transformed_df[ticker].loc[\"CurrLiab\",:])\n",
        "    transformed_df[ticker].loc[\"EarningYield\",:] = transformed_df[ticker].loc[\"EBIT\",:]/transformed_df[ticker].loc[\"TEV\",:]\n",
        "    transformed_df[ticker].loc[\"FCFYield\",:] = (transformed_df[ticker].loc[\"CashFlowOps\",:] - transformed_df[ticker].loc[\"Capex\",:])/transformed_df[ticker].loc[\"MarketCap\",:]\n",
        "    transformed_df[ticker].loc[\"ROC\",:] = (transformed_df[ticker].loc[\"EBITDA\",:] - transformed_df[ticker].loc[\"D&A\",:]) / (transformed_df[ticker].loc[\"PPE\",:] + transformed_df[ticker].loc[\"CurrAsset\",:] - transformed_df[ticker].loc[\"CurrLiab\",:])\n",
        "    transformed_df[ticker].loc[\"BookToMkt\",:] = transformed_df[ticker].loc[\"BookValue\",:] / transformed_df[ticker].loc[\"MarketCap\",:]"
      ],
      "metadata": {
        "id": "NMZSeOaDa3TK"
      },
      "execution_count": 21,
      "outputs": []
    },
    {
      "cell_type": "code",
      "source": [
        "## Output DataFrame\n",
        "final_stats_val_df = pd.DataFrame(columns=transformed_df.keys())\n",
        "for key in transformed_df:\n",
        "    final_stats_val_df[key] = transformed_df[key].values.flatten()\n",
        "    final_stats_val_df.set_index(transformed_df[key].index, inplace=True)"
      ],
      "metadata": {
        "id": "WduZWlTuejfF"
      },
      "execution_count": 22,
      "outputs": []
    },
    {
      "cell_type": "code",
      "source": [
        "# Finding value stocks based on Greenblatt Magic Formula\n",
        "final_stats_val_df.loc[\"CombRank\", :] = final_stats_val_df.loc[\"EarningYield\", :].rank(ascending=False, na_option='bottom') + final_stats_val_df.loc[\"ROC\", :].rank(ascending=False, na_option='bottom')\n",
        "final_stats_val_df.loc[\"MagicFormulaRank\", :] = final_stats_val_df.loc[\"CombRank\", :].rank(method='first')\n",
        "value_stocks = final_stats_val_df.loc[\"MagicFormulaRank\", :].sort_values()"
      ],
      "metadata": {
        "id": "QxaCBS1kfPYF"
      },
      "execution_count": 23,
      "outputs": []
    },
    {
      "cell_type": "code",
      "source": [
        "print(\"Value Stocks based on Greenblatt's Magic Formula\")\n",
        "print(value_stocks)"
      ],
      "metadata": {
        "colab": {
          "base_uri": "https://localhost:8080/"
        },
        "id": "rsSTX_F6hFlh",
        "outputId": "d2864180-4dc2-46f8-eb0c-be8ebc951dc0"
      },
      "execution_count": 24,
      "outputs": [
        {
          "output_type": "stream",
          "name": "stdout",
          "text": [
            "Value Stocks based on Greenblatt's Magic Formula\n",
            "AAPL     1.0\n",
            "V        2.0\n",
            "JNJ      3.0\n",
            "PFE      4.0\n",
            "PG       5.0\n",
            "HD       6.0\n",
            "MMM      7.0\n",
            "INTC     8.0\n",
            "IBM      9.0\n",
            "KO      10.0\n",
            "MRK     11.0\n",
            "CAT     12.0\n",
            "CVX     13.0\n",
            "CSCO    14.0\n",
            "XOM     15.0\n",
            "WMT     16.0\n",
            "VZ      17.0\n",
            "MCD     18.0\n",
            "GE      19.0\n",
            "MSFT    20.0\n",
            "NKE     21.0\n",
            "UNH     22.0\n",
            "DIS     23.0\n",
            "GS      24.0\n",
            "BA      25.0\n",
            "Name: MagicFormulaRank, dtype: float64\n"
          ]
        }
      ]
    },
    {
      "cell_type": "code",
      "source": [
        "# Finding highest dividend yield stocks\n",
        "high_dividend_stocks = final_stats_val_df.loc[\"DivYield\",:].sort_values(ascending=False)\n",
        "print(\"Highest Dividend Paying Stocks\")\n",
        "print(high_dividend_stocks)"
      ],
      "metadata": {
        "colab": {
          "base_uri": "https://localhost:8080/"
        },
        "id": "0PP_6HOjo6ax",
        "outputId": "b5f664b4-3895-4e2d-d725-d8703506c3d4"
      },
      "execution_count": 25,
      "outputs": [
        {
          "output_type": "stream",
          "name": "stdout",
          "text": [
            "Highest Dividend Paying Stocks\n",
            "GE     -5.750000e+08\n",
            "NKE    -1.837000e+09\n",
            "CAT    -2.332000e+09\n",
            "GS     -2.725000e+09\n",
            "V      -2.798000e+09\n",
            "MMM    -3.420000e+09\n",
            "MCD    -3.919000e+09\n",
            "UNH    -5.280000e+09\n",
            "INTC   -5.644000e+09\n",
            "IBM    -5.869000e+09\n",
            "WMT    -6.152000e+09\n",
            "CSCO   -6.224000e+09\n",
            "MRK    -6.610000e+09\n",
            "HD     -6.985000e+09\n",
            "KO     -7.252000e+09\n",
            "PFE    -8.729000e+09\n",
            "PG     -8.770000e+09\n",
            "CVX    -1.021500e+10\n",
            "VZ     -1.044500e+10\n",
            "JNJ    -1.103200e+10\n",
            "AAPL   -1.446700e+10\n",
            "XOM    -1.514800e+10\n",
            "MSFT   -1.813500e+10\n",
            "BA               NaN\n",
            "DIS              NaN\n",
            "Name: DivYield, dtype: float64\n"
          ]
        }
      ]
    },
    {
      "cell_type": "code",
      "source": [
        "# Magic formula and Dividend Yield Combined\n",
        "final_stats_val_df.loc[\"CombinedRank\",:] = final_stats_val_df.loc[\"EarningYield\",:].rank(ascending=False, method='first') + final_stats_val_df.loc[\"ROC\",:].rank(ascending=False, method='first') + final_stats_val_df.loc[\"DivYield\",:].rank(ascending=False, method='first')\n",
        "value_high_div_stocks = final_stats_val_df.T.sort_values(\"CombinedRank\").loc[:, [\"EarningYield\", \"ROC\", \"DivYield\", \"CombinedRank\"]]\n",
        "print(\"Magic Formula and Dividend Yield Combined\")\n",
        "print(value_high_div_stocks)"
      ],
      "metadata": {
        "colab": {
          "base_uri": "https://localhost:8080/"
        },
        "id": "tXIkQdJ6spOm",
        "outputId": "c637aad8-9d96-4239-fcd2-f7ce55380589"
      },
      "execution_count": 26,
      "outputs": [
        {
          "output_type": "stream",
          "name": "stdout",
          "text": [
            "Magic Formula and Dividend Yield Combined\n",
            "heading  EarningYield       ROC      DivYield  CombinedRank\n",
            "V            1.951665  1.085373 -2.798000e+09          11.0\n",
            "MMM          0.776837  0.476420 -3.420000e+09          25.0\n",
            "CAT          0.560805  0.271150 -2.332000e+09          26.0\n",
            "AAPL         0.990211  1.850294 -1.446700e+10          27.0\n",
            "INTC         6.163145  0.232568 -5.644000e+09          28.0\n",
            "PFE          0.958954  0.598480 -8.729000e+09          30.0\n",
            "IBM          0.143335  4.351301 -5.869000e+09          30.0\n",
            "HD           0.553913  0.730756 -6.985000e+09          31.0\n",
            "JNJ          1.607209  0.687379 -1.103200e+10          31.0\n",
            "PG           0.522611  1.834033 -8.770000e+09          32.0\n",
            "MRK          0.535481  0.501339 -6.610000e+09          35.0\n",
            "KO           0.290195  0.823652 -7.252000e+09          36.0\n",
            "GE           0.231156  0.148514 -5.750000e+08          36.0\n",
            "NKE         -1.174905  0.269762 -1.837000e+09          40.0\n",
            "WMT          0.486812  0.267526 -6.152000e+09          40.0\n",
            "CSCO        -5.249530  1.068456 -6.224000e+09          41.0\n",
            "MCD          0.214742  0.236076 -3.919000e+09          41.0\n",
            "CVX          0.924894  0.145223 -1.021500e+10          44.0\n",
            "UNH          0.384628 -3.168539 -5.280000e+09          47.0\n",
            "GS           0.076403 -0.235098 -2.725000e+09          48.0\n",
            "VZ           0.210897  0.363506 -1.044500e+10          50.0\n",
            "XOM          0.619309  0.126854 -1.514800e+10          51.0\n",
            "MSFT       -37.241179  0.514240 -1.813500e+10          58.0\n",
            "BA          -0.091393 -0.073535           NaN           NaN\n",
            "DIS          0.072822  0.100424           NaN           NaN\n"
          ]
        }
      ]
    }
  ]
}