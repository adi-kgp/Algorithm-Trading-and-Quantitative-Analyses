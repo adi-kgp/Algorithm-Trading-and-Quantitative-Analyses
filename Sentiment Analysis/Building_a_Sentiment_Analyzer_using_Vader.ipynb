{
  "nbformat": 4,
  "nbformat_minor": 0,
  "metadata": {
    "colab": {
      "provenance": []
    },
    "kernelspec": {
      "name": "python3",
      "display_name": "Python 3"
    },
    "language_info": {
      "name": "python"
    }
  },
  "cells": [
    {
      "cell_type": "markdown",
      "source": [
        "### Web Scraping Crude Oil News and using VADER for sentiment analysis"
      ],
      "metadata": {
        "id": "XwAlgdO_WfjE"
      }
    },
    {
      "cell_type": "code",
      "source": [
        "# import necessary libraries\n",
        "import requests\n",
        "from bs4 import BeautifulSoup\n",
        "import pandas as pd\n",
        "!pip install vaderSentiment\n",
        "from vaderSentiment.vaderSentiment import SentimentIntensityAnalyzer"
      ],
      "metadata": {
        "id": "90vmHCUJWv19",
        "colab": {
          "base_uri": "https://localhost:8080/"
        },
        "outputId": "f6717003-abcb-4bca-a051-0301627bd87e"
      },
      "execution_count": null,
      "outputs": [
        {
          "output_type": "stream",
          "name": "stdout",
          "text": [
            "Looking in indexes: https://pypi.org/simple, https://us-python.pkg.dev/colab-wheels/public/simple/\n",
            "Collecting vaderSentiment\n",
            "  Downloading vaderSentiment-3.3.2-py2.py3-none-any.whl (125 kB)\n",
            "\u001b[K     |████████████████████████████████| 125 kB 23.0 MB/s \n",
            "\u001b[?25hRequirement already satisfied: requests in /usr/local/lib/python3.7/dist-packages (from vaderSentiment) (2.23.0)\n",
            "Requirement already satisfied: chardet<4,>=3.0.2 in /usr/local/lib/python3.7/dist-packages (from requests->vaderSentiment) (3.0.4)\n",
            "Requirement already satisfied: idna<3,>=2.5 in /usr/local/lib/python3.7/dist-packages (from requests->vaderSentiment) (2.10)\n",
            "Requirement already satisfied: urllib3!=1.25.0,!=1.25.1,<1.26,>=1.21.1 in /usr/local/lib/python3.7/dist-packages (from requests->vaderSentiment) (1.24.3)\n",
            "Requirement already satisfied: certifi>=2017.4.17 in /usr/local/lib/python3.7/dist-packages (from requests->vaderSentiment) (2022.6.15)\n",
            "Installing collected packages: vaderSentiment\n",
            "Successfully installed vaderSentiment-3.3.2\n"
          ]
        }
      ]
    },
    {
      "cell_type": "code",
      "source": [
        "# Create lists to store scraped news urls, headlines and text\n",
        "url_list = []\n",
        "date_time = []\n",
        "news_text = []\n",
        "headlines = []\n",
        "\n",
        "for i in range(1,3): # parameters of range function correspond to page numbers in the website with news listings\n",
        "    # get the list of unique urls in the page\n",
        "    url = 'https://oilprice.com/Energy/Crude-Oil/Page-{}.html'.format(i)\n",
        "    request = requests.get(url)\n",
        "    soup = BeautifulSoup(request.text, \"html.parser\")\n",
        "    for links in soup.find_all('div', {'class': 'categoryArticle'}):\n",
        "        for info in links.find_all('a'):\n",
        "            if info.get('href') not in url_list:\n",
        "                url_list.append(info.get('href'))\n",
        "\n",
        "for www in url_list:\n",
        "    # access each url\n",
        "    headlines.append(www.split(\"/\")[-1].replace('-',' ').replace('.html', ' '))\n",
        "    request = requests.get(www)\n",
        "    soup = BeautifulSoup(request.text, \"html.parser\")\n",
        "\n",
        "    # store date and time of the event of article publication\n",
        "    for dates in soup.find_all('span', {'class': 'article_byline'}):\n",
        "        date_time.append(dates.text.split('-')[-1])\n",
        "    \n",
        "    # store the text of the news\n",
        "    temp = []\n",
        "    for news in soup.find_all('p'):\n",
        "        temp.append(news.text)\n",
        "    \"\"\"Code which I could not find any reason to include here, but it is included in the reference material:\n",
        "\n",
        "    #identify the last line of the news article\n",
        "    # for last_sentence in reversed(temp):\n",
        "    #     if last_sentence.split(\" \")[0]==\"By\" and last_sentence.split(\" \")[-1]==\"Oilprice.com\":\n",
        "    #         break\n",
        "    #     elif last_sentence.split(\" \")[0]==\"By\":\n",
        "    #         break \"\"\"\n",
        "    \n",
        "    #prune non news related text from the scraped data to create the news text\n",
        "    joined_text = ' '.join(temp[temp.index(\"More Info\")+1:temp.index(temp[-1])])\n",
        "    news_text.append(joined_text)"
      ],
      "metadata": {
        "id": "FkMbqtrLXAqO"
      },
      "execution_count": null,
      "outputs": []
    },
    {
      "cell_type": "code",
      "source": [
        "headlines"
      ],
      "metadata": {
        "colab": {
          "base_uri": "https://localhost:8080/"
        },
        "id": "dXtfIirEsNjd",
        "outputId": "940e1b96-f5b5-4961-a832-0e51ebc4cefb"
      },
      "execution_count": null,
      "outputs": [
        {
          "output_type": "execute_result",
          "data": {
            "text/plain": [
              "['US Gulf Of Mexico Can Help Fill Global Oil Supply Gap ',\n",
              " 'Oil Jumps On EIA Inventory Data ',\n",
              " 'OPEC Crude Oil Exports Trend Lower In September ',\n",
              " 'Oil Price Cap On Russian Crude Could Cause Tanker Shortage ',\n",
              " 'Russia Likely To Propose Major Output Cut At Next OPEC Meeting ',\n",
              " 'Russia At The Forefront Of Development Of Huge Iranian Oil Fields ',\n",
              " 'Not Everyone Is Ditching Russian Energy ',\n",
              " 'Colombia May Shoot Itself In The Foot With Ban On Fracking ',\n",
              " 'Oil Rig Count Sees Small Jump Amid Crash In Crude Prices ',\n",
              " 'An Oil Supply Shock May Be Imminent ',\n",
              " 'Oil Falls Below 80 As Powell Warns A Recession May Be Looming ',\n",
              " 'Razor Thin Spare Capacity To Keep Oil Prices Elevated ',\n",
              " 'How Big A Problem Is Americas Shrinking Oil Reserve ',\n",
              " 'Why India Is Suddenly Buying Less Russian Crude ',\n",
              " 'Oil Prices Fall After Fed Raises Rates ',\n",
              " 'Oil Prices Dip On Across The Board Inventory Build ',\n",
              " 'Germany Seizes Rosneft Refineries But Doesnt Solve Its Oil Problem ',\n",
              " 'Oil Under Pressure As Traders Await Fed Decision ',\n",
              " 'Maduro Venezuela Is Ready To Send Its Oil To The World ',\n",
              " 'US Energy Producers Warn European Buyers No Bailout Is Coming ',\n",
              " 'European Oil Giant Warns Windfall Tax Could Backfire ',\n",
              " 'Oil Prices Fall As Rail Strike Fears Fade ',\n",
              " 'WTI Inches Higher After EIA Reports Small Crude Inventory Build ',\n",
              " 'Permian Oil Production Is Set To Hit A Record High ',\n",
              " 'Chinas Covid Lockdowns Are The Single Biggest Threat To Oil Markets ',\n",
              " 'Nigerias Oil Exports Plunge To Record Low ',\n",
              " 'Oil Prices Rise Despite Economic Concerns ',\n",
              " 'Banning Russian Crude Will Be Much Easier Said Than Done ',\n",
              " 'Texas Sees 25 Tax Revenue Surge As Oil Firms Boom ',\n",
              " 'Venezuelas Refinery Crisis Is Far From Over ',\n",
              " 'Large Crude Build Sends Oil Prices Tumbling ',\n",
              " 'What Recession The US Oil Industry Wont Stop Growing ',\n",
              " 'Further OPEC Production Cuts Could Be Looming ',\n",
              " 'Can Canada Boost Oil Production While Reducing Its Emissions ',\n",
              " 'Why The Russian Oil Price Cap Wont Work ',\n",
              " 'OPEC Cuts Production Despite Resistance From Russia ',\n",
              " 'Will OPEC Cut Oil Output On Labor Day ',\n",
              " 'The G7 Could Finalize Plans For A Price Cap On Russian Oil Today ',\n",
              " 'Offshore Oil And Gas Set For Robust Growth ',\n",
              " '95 Of Production At Nigerias Main Oil Hub Is Being Stolen ']"
            ]
          },
          "metadata": {},
          "execution_count": 4
        }
      ]
    },
    {
      "cell_type": "code",
      "source": [
        "news_text[0:2]"
      ],
      "metadata": {
        "colab": {
          "base_uri": "https://localhost:8080/"
        },
        "id": "quJAE1HscSzJ",
        "outputId": "67286516-16f6-4809-87ce-0f23e36b7883"
      },
      "execution_count": null,
      "outputs": [
        {
          "output_type": "execute_result",
          "data": {
            "text/plain": [
              "['One of the world’s most mature deepwater basins, the U.S. Gulf of Mexico, has a lot of production life left and could help bridge the oil supply gap that is widening with the maturing of many currently producing assets globally. The basin now pumping 15% of U.S. crude has the potential to deliver another up to 2 million barrels per day (bpd) of the new supply sources needed by 2040, McKinsey & Company said in a new report this month. The Gulf can also do it with one of the lowest emissions per barrel of all major basins in the world.\\xa0\\xa0 The deepwater U.S. Gulf of Mexico has one of the lowest emissions-per-barrel estimates in the world, right behind Saudi Arabia and the United Arab Emirates (UAE) and the North Sea deepwater basin, including offshore Norway and the UK, according to McKinsey estimates based on its calculations and data from the International Energy Agency (IEA) and Stanford University.\\xa0 Operators in the Gulf of Mexico—most of them supermajors with net-zero 2050 ambitions and targets—are also motivated to continue pumping oil and gas in the area, which has less than half of the emissions per barrel compared with other major basins such as U.S. shale, shallow water developments globally, other OPEC+ producers outside Saudi Arabia and the UAE, or oil sands, according to McKinsey.\\xa0 “That potential matters to the many oil and gas companies that are investing in the Gulf of Mexico, especially to those that have announced net-zero emissions targets. And it matters for the world climate,” McKinsey’s consultants said in their report. The Gulf of Mexico’s relatively low emissions profile is the result of four factors, the consultancy says. These are minimal gas flaring because most of the natural gas is sold on the local markets, efficient facilities minimizing methane leaks, high throughput at wells and production facilities, and finally, operators making decarbonization efforts to stay in line with environmental sustainability goals and in compliance with regulations.\\xa0\\xa0  Related: China’s Oil Demand Is Finally Bouncing Back\\n According to the Current Trajectory scenario of McKinsey Energy Insights’ Global Energy Perspective 2022, deepwater basins are expected to provide 7 million bpd out of 24 million bpd of new supply sources needed by 2040. The Gulf of Mexico could supply 1-2 million bpd of this, with important implications for the U.S. economy and global emissions. The other supply is expected to come from areas such as the Middle East, offshore Brazil, and offshore West Africa. However, the future contribution of each of those regions “is largely uncertain” due to OPEC’s production policies and decisions and the asset performance of new investments, among other factors, McKinsey said.\\xa0\\xa0 Regardless of where new oil supply will come from, one thing is certain—“additional sources of supply will be needed to meet demand and offset the natural decline of current online production,” the consultancy noted.\\xa0 That’s a warning recently repeated from the biggest crude oil exporter in the world, Saudi Arabia.\\xa0 Just last week, Saudi Aramco’s CEO Amin Nasser said—once again—that the world would need oil and gas for the foreseeable future and would need more investment in the industry just to keep supply steady amid declining output from maturing wells, and even more investment to boost production capacity to meet the world’s energy needs.\\n If it’s not the U.S. Gulf of Mexico, there will be other basins to fill the supply gap—but they could be much more emission-intensive.\\xa0 “In the extreme case, an absence of continued resource access and development in the Gulf of Mexico would result in less of the lower-carbon production needed during the energy transition,” McKinsey said.  Without continued investment, the Gulf of Mexico could see production starting to decline as early as 2024, and fall by 800,000 bpd by 2040, from around 1.7 million bpd now, McKinsey’s analysts have estimated.\\xa0 The supermajors are investing in the Gulf of Mexico. For example, BP says its net production was around 290,000 boe/d last year, and it expects to produce 400,000 boe/d in the Gulf of Mexico by the mid-2020s. Chevron financially approved this year and is preparing to develop the Ballymore project, its first Norphlet reservoir development in the area. Ballymore could yield 75,000 bpd of crude, with first oil expected in 2025.\\xa0 “The Gulf of Mexico has some of the lowest carbon intensity production within Chevron’s portfolio. It averages an intensity of 6 kg carbon equivalent per barrel of oil equivalent, a fraction of the global average,” the U.S. supermajor says. By Tsvetana Paraskova for Oilprice.com More Top Reads From Oilprice.com: Back to homepage Previous Post Oil Jumps On EIA Inventory Data \\n\\t            Tsvetana is a writer for Oilprice.com with over a decade of experience writing for news outlets such as iNVEZZ and SeeNews.\\xa0\\t           Oil Prices Are About To Reverse Course An Oil Supply Shock May Be Imminent Why India Is Suddenly Buying Less Russian Crude Gasoline Prices Could Return To $5 Per Gallon Solar Cell Breakthrough Could Challenge Silicon Dominance \\n\\n\\n\\n\\n\\n © OilPrice.com The materials provided on this Web site are for informational and educational purposes only and are not intended to provide tax, legal, or investment advice. Nothing contained on the Web site shall be considered a recommendation, solicitation, or offer to buy or sell a security to any person in any jurisdiction. Trading and investing carries a high risk of losing money rapidly due to leverage. Individuals should consider whether they can afford the risks associated to trading. 74-89% of retail investor accounts lose money. Any trading and execution of orders mentioned on this website is carried out by and through OPCMarkets.',\n",
              " 'Crude oil prices moved higher today after the Energy Information Administration today reported a modest inventory draw of 200,000 barrels for the week to September 23. This compared with an increase in oil inventories of 1.1 million barrels for the previous week. Yesterday, the American Petroleum Institute estimated a 4.15-million-barrel build in crude oil inventories for the week to September 23. In fuels, the EIA reported draws across the board. Gasoline stocks, according to the authority fell by 2.4 million barrels in the reporting period, with production averaging 9.6 million barrels daily. This compared with an inventory build of 1.6 million barrels and average daily production of 9.5 million barrels.\\n In middle distillates, the EIA estimated an inventory fall of 2.9 million barrels for the week to September 23, with average daily production at 5 million barrels. This compared with an inventory build of 1.2 million barrels and average daily production of 5.2 million barrels a week earlier. In the past few days oil prices have been on the slide as aggressive Fed policy has sent the dollar soaring. Earlier today, however, prices reversed the trend prompted by the shutdown of some offshore production in the Gulf of Mexico ahead of Hurricane Ian. Expectations that OPEC+ will agree oil production cuts at its next meeting next week also served to lend some support to oil prices in the past few days. There may be more support for oil prices coming soon, too, as demand for the commodity remains robust while supply is not growing. In fact, it’s shrinking, and so is spare production capacity.\\n OPEC’s latest production figures showed the total was 3.58 million bpd below targets; Russia’s exports are seen dropping by 2.4 million bpd next year; and U.S. producers are staying on the cautious path with regard to production growth. This, plus the need for the U.S. to replenish the strategic petroleum reserve after sales of 180 million barrels, suggests a bullish outlook for oil prices in the near to medium term. On the bearish side, a recession could offset much of the bullish potential and analysts see the chances of a recession in the U.S. at between 45 percent for the next 12 months and 55 percent for the next 24 months. By Irina Slav for Oilprice.com More Top Reads From Oilprice.com: Back to homepage Previous Post OPEC Crude Oil Exports Trend Lower In September Next Post U.S. Gulf Of Mexico Can Help Fill Global Oil Supply Gap \\n\\t            Irina is a writer for Oilprice.com with over a decade of experience writing on the oil and gas industry.\\t           Oil Prices Are About To Reverse Course An Oil Supply Shock May Be Imminent Why India Is Suddenly Buying Less Russian Crude Gasoline Prices Could Return To $5 Per Gallon Solar Cell Breakthrough Could Challenge Silicon Dominance \\n\\n\\n\\n\\n\\n © OilPrice.com The materials provided on this Web site are for informational and educational purposes only and are not intended to provide tax, legal, or investment advice. Nothing contained on the Web site shall be considered a recommendation, solicitation, or offer to buy or sell a security to any person in any jurisdiction. Trading and investing carries a high risk of losing money rapidly due to leverage. Individuals should consider whether they can afford the risks associated to trading. 74-89% of retail investor accounts lose money. Any trading and execution of orders mentioned on this website is carried out by and through OPCMarkets.']"
            ]
          },
          "metadata": {},
          "execution_count": 5
        }
      ]
    },
    {
      "cell_type": "code",
      "source": [
        "# save news text along with the news headline in a dataframe\n",
        "news_df = pd.DataFrame({\n",
        "    'Date': date_time,\n",
        "    'Headline': headlines,\n",
        "    'News': news_text\n",
        "})\n",
        "news_df.head()"
      ],
      "metadata": {
        "colab": {
          "base_uri": "https://localhost:8080/",
          "height": 206
        },
        "id": "lda8ka4BcXep",
        "outputId": "90c9f8f8-f284-4444-bb9a-c9d10d3d838f"
      },
      "execution_count": null,
      "outputs": [
        {
          "output_type": "execute_result",
          "data": {
            "text/plain": [
              "                         Date  \\\n",
              "0   Sep 28, 2022, 5:00 PM CDT   \n",
              "1   Sep 28, 2022, 9:38 AM CDT   \n",
              "2   Sep 28, 2022, 9:00 AM CDT   \n",
              "3   Sep 27, 2022, 4:00 PM CDT   \n",
              "4   Sep 27, 2022, 9:48 AM CDT   \n",
              "\n",
              "                                            Headline  \\\n",
              "0  US Gulf Of Mexico Can Help Fill Global Oil Sup...   \n",
              "1                   Oil Jumps On EIA Inventory Data    \n",
              "2   OPEC Crude Oil Exports Trend Lower In September    \n",
              "3  Oil Price Cap On Russian Crude Could Cause Tan...   \n",
              "4  Russia Likely To Propose Major Output Cut At N...   \n",
              "\n",
              "                                                News  \n",
              "0  One of the world’s most mature deepwater basin...  \n",
              "1  Crude oil prices moved higher today after the ...  \n",
              "2  Crude oil exports from all OPEC oil producers ...  \n",
              "3  With the EU embargo on imports of Russian oil ...  \n",
              "4  Russia is likely to propose at the next OPEC+ ...  "
            ],
            "text/html": [
              "\n",
              "  <div id=\"df-a35c90bc-f9d1-47ba-a650-8e2ad4351401\">\n",
              "    <div class=\"colab-df-container\">\n",
              "      <div>\n",
              "<style scoped>\n",
              "    .dataframe tbody tr th:only-of-type {\n",
              "        vertical-align: middle;\n",
              "    }\n",
              "\n",
              "    .dataframe tbody tr th {\n",
              "        vertical-align: top;\n",
              "    }\n",
              "\n",
              "    .dataframe thead th {\n",
              "        text-align: right;\n",
              "    }\n",
              "</style>\n",
              "<table border=\"1\" class=\"dataframe\">\n",
              "  <thead>\n",
              "    <tr style=\"text-align: right;\">\n",
              "      <th></th>\n",
              "      <th>Date</th>\n",
              "      <th>Headline</th>\n",
              "      <th>News</th>\n",
              "    </tr>\n",
              "  </thead>\n",
              "  <tbody>\n",
              "    <tr>\n",
              "      <th>0</th>\n",
              "      <td>Sep 28, 2022, 5:00 PM CDT</td>\n",
              "      <td>US Gulf Of Mexico Can Help Fill Global Oil Sup...</td>\n",
              "      <td>One of the world’s most mature deepwater basin...</td>\n",
              "    </tr>\n",
              "    <tr>\n",
              "      <th>1</th>\n",
              "      <td>Sep 28, 2022, 9:38 AM CDT</td>\n",
              "      <td>Oil Jumps On EIA Inventory Data</td>\n",
              "      <td>Crude oil prices moved higher today after the ...</td>\n",
              "    </tr>\n",
              "    <tr>\n",
              "      <th>2</th>\n",
              "      <td>Sep 28, 2022, 9:00 AM CDT</td>\n",
              "      <td>OPEC Crude Oil Exports Trend Lower In September</td>\n",
              "      <td>Crude oil exports from all OPEC oil producers ...</td>\n",
              "    </tr>\n",
              "    <tr>\n",
              "      <th>3</th>\n",
              "      <td>Sep 27, 2022, 4:00 PM CDT</td>\n",
              "      <td>Oil Price Cap On Russian Crude Could Cause Tan...</td>\n",
              "      <td>With the EU embargo on imports of Russian oil ...</td>\n",
              "    </tr>\n",
              "    <tr>\n",
              "      <th>4</th>\n",
              "      <td>Sep 27, 2022, 9:48 AM CDT</td>\n",
              "      <td>Russia Likely To Propose Major Output Cut At N...</td>\n",
              "      <td>Russia is likely to propose at the next OPEC+ ...</td>\n",
              "    </tr>\n",
              "  </tbody>\n",
              "</table>\n",
              "</div>\n",
              "      <button class=\"colab-df-convert\" onclick=\"convertToInteractive('df-a35c90bc-f9d1-47ba-a650-8e2ad4351401')\"\n",
              "              title=\"Convert this dataframe to an interactive table.\"\n",
              "              style=\"display:none;\">\n",
              "        \n",
              "  <svg xmlns=\"http://www.w3.org/2000/svg\" height=\"24px\"viewBox=\"0 0 24 24\"\n",
              "       width=\"24px\">\n",
              "    <path d=\"M0 0h24v24H0V0z\" fill=\"none\"/>\n",
              "    <path d=\"M18.56 5.44l.94 2.06.94-2.06 2.06-.94-2.06-.94-.94-2.06-.94 2.06-2.06.94zm-11 1L8.5 8.5l.94-2.06 2.06-.94-2.06-.94L8.5 2.5l-.94 2.06-2.06.94zm10 10l.94 2.06.94-2.06 2.06-.94-2.06-.94-.94-2.06-.94 2.06-2.06.94z\"/><path d=\"M17.41 7.96l-1.37-1.37c-.4-.4-.92-.59-1.43-.59-.52 0-1.04.2-1.43.59L10.3 9.45l-7.72 7.72c-.78.78-.78 2.05 0 2.83L4 21.41c.39.39.9.59 1.41.59.51 0 1.02-.2 1.41-.59l7.78-7.78 2.81-2.81c.8-.78.8-2.07 0-2.86zM5.41 20L4 18.59l7.72-7.72 1.47 1.35L5.41 20z\"/>\n",
              "  </svg>\n",
              "      </button>\n",
              "      \n",
              "  <style>\n",
              "    .colab-df-container {\n",
              "      display:flex;\n",
              "      flex-wrap:wrap;\n",
              "      gap: 12px;\n",
              "    }\n",
              "\n",
              "    .colab-df-convert {\n",
              "      background-color: #E8F0FE;\n",
              "      border: none;\n",
              "      border-radius: 50%;\n",
              "      cursor: pointer;\n",
              "      display: none;\n",
              "      fill: #1967D2;\n",
              "      height: 32px;\n",
              "      padding: 0 0 0 0;\n",
              "      width: 32px;\n",
              "    }\n",
              "\n",
              "    .colab-df-convert:hover {\n",
              "      background-color: #E2EBFA;\n",
              "      box-shadow: 0px 1px 2px rgba(60, 64, 67, 0.3), 0px 1px 3px 1px rgba(60, 64, 67, 0.15);\n",
              "      fill: #174EA6;\n",
              "    }\n",
              "\n",
              "    [theme=dark] .colab-df-convert {\n",
              "      background-color: #3B4455;\n",
              "      fill: #D2E3FC;\n",
              "    }\n",
              "\n",
              "    [theme=dark] .colab-df-convert:hover {\n",
              "      background-color: #434B5C;\n",
              "      box-shadow: 0px 1px 3px 1px rgba(0, 0, 0, 0.15);\n",
              "      filter: drop-shadow(0px 1px 2px rgba(0, 0, 0, 0.3));\n",
              "      fill: #FFFFFF;\n",
              "    }\n",
              "  </style>\n",
              "\n",
              "      <script>\n",
              "        const buttonEl =\n",
              "          document.querySelector('#df-a35c90bc-f9d1-47ba-a650-8e2ad4351401 button.colab-df-convert');\n",
              "        buttonEl.style.display =\n",
              "          google.colab.kernel.accessAllowed ? 'block' : 'none';\n",
              "\n",
              "        async function convertToInteractive(key) {\n",
              "          const element = document.querySelector('#df-a35c90bc-f9d1-47ba-a650-8e2ad4351401');\n",
              "          const dataTable =\n",
              "            await google.colab.kernel.invokeFunction('convertToInteractive',\n",
              "                                                     [key], {});\n",
              "          if (!dataTable) return;\n",
              "\n",
              "          const docLinkHtml = 'Like what you see? Visit the ' +\n",
              "            '<a target=\"_blank\" href=https://colab.research.google.com/notebooks/data_table.ipynb>data table notebook</a>'\n",
              "            + ' to learn more about interactive tables.';\n",
              "          element.innerHTML = '';\n",
              "          dataTable['output_type'] = 'display_data';\n",
              "          await google.colab.output.renderOutput(dataTable, element);\n",
              "          const docLink = document.createElement('div');\n",
              "          docLink.innerHTML = docLinkHtml;\n",
              "          element.appendChild(docLink);\n",
              "        }\n",
              "      </script>\n",
              "    </div>\n",
              "  </div>\n",
              "  "
            ]
          },
          "metadata": {},
          "execution_count": 6
        }
      ]
    },
    {
      "cell_type": "code",
      "source": [
        "len(news_df)"
      ],
      "metadata": {
        "colab": {
          "base_uri": "https://localhost:8080/"
        },
        "id": "u7JycXd2csqw",
        "outputId": "87081765-cde3-4cd2-9c25-18f730b3124f"
      },
      "execution_count": null,
      "outputs": [
        {
          "output_type": "execute_result",
          "data": {
            "text/plain": [
              "40"
            ]
          },
          "metadata": {},
          "execution_count": 7
        }
      ]
    },
    {
      "cell_type": "code",
      "source": [
        "# use VADER to perform sentiment analysis on stored news articles\n",
        "analyser = SentimentIntensityAnalyzer()\n",
        "\n",
        "def comp_score(text):\n",
        "    return analyser.polarity_scores(text)['compound']\n",
        "\n",
        "news_df['sentiment'] = news_df['News'].apply(comp_score)\n",
        "\n",
        "news_df.head()"
      ],
      "metadata": {
        "colab": {
          "base_uri": "https://localhost:8080/",
          "height": 206
        },
        "id": "Gc7UkdV9lubl",
        "outputId": "0be14aec-73e6-4681-a1ad-45aa72852dc4"
      },
      "execution_count": null,
      "outputs": [
        {
          "output_type": "execute_result",
          "data": {
            "text/plain": [
              "                         Date  \\\n",
              "0   Sep 28, 2022, 5:00 PM CDT   \n",
              "1   Sep 28, 2022, 9:38 AM CDT   \n",
              "2   Sep 28, 2022, 9:00 AM CDT   \n",
              "3   Sep 27, 2022, 4:00 PM CDT   \n",
              "4   Sep 27, 2022, 9:48 AM CDT   \n",
              "\n",
              "                                            Headline  \\\n",
              "0  US Gulf Of Mexico Can Help Fill Global Oil Sup...   \n",
              "1                   Oil Jumps On EIA Inventory Data    \n",
              "2   OPEC Crude Oil Exports Trend Lower In September    \n",
              "3  Oil Price Cap On Russian Crude Could Cause Tan...   \n",
              "4  Russia Likely To Propose Major Output Cut At N...   \n",
              "\n",
              "                                                News  sentiment  \n",
              "0  One of the world’s most mature deepwater basin...     0.8070  \n",
              "1  Crude oil prices moved higher today after the ...    -0.9033  \n",
              "2  Crude oil exports from all OPEC oil producers ...    -0.9838  \n",
              "3  With the EU embargo on imports of Russian oil ...    -0.9144  \n",
              "4  Russia is likely to propose at the next OPEC+ ...    -0.9619  "
            ],
            "text/html": [
              "\n",
              "  <div id=\"df-9bfff002-b121-4baa-ba7d-9a763c7494ba\">\n",
              "    <div class=\"colab-df-container\">\n",
              "      <div>\n",
              "<style scoped>\n",
              "    .dataframe tbody tr th:only-of-type {\n",
              "        vertical-align: middle;\n",
              "    }\n",
              "\n",
              "    .dataframe tbody tr th {\n",
              "        vertical-align: top;\n",
              "    }\n",
              "\n",
              "    .dataframe thead th {\n",
              "        text-align: right;\n",
              "    }\n",
              "</style>\n",
              "<table border=\"1\" class=\"dataframe\">\n",
              "  <thead>\n",
              "    <tr style=\"text-align: right;\">\n",
              "      <th></th>\n",
              "      <th>Date</th>\n",
              "      <th>Headline</th>\n",
              "      <th>News</th>\n",
              "      <th>sentiment</th>\n",
              "    </tr>\n",
              "  </thead>\n",
              "  <tbody>\n",
              "    <tr>\n",
              "      <th>0</th>\n",
              "      <td>Sep 28, 2022, 5:00 PM CDT</td>\n",
              "      <td>US Gulf Of Mexico Can Help Fill Global Oil Sup...</td>\n",
              "      <td>One of the world’s most mature deepwater basin...</td>\n",
              "      <td>0.8070</td>\n",
              "    </tr>\n",
              "    <tr>\n",
              "      <th>1</th>\n",
              "      <td>Sep 28, 2022, 9:38 AM CDT</td>\n",
              "      <td>Oil Jumps On EIA Inventory Data</td>\n",
              "      <td>Crude oil prices moved higher today after the ...</td>\n",
              "      <td>-0.9033</td>\n",
              "    </tr>\n",
              "    <tr>\n",
              "      <th>2</th>\n",
              "      <td>Sep 28, 2022, 9:00 AM CDT</td>\n",
              "      <td>OPEC Crude Oil Exports Trend Lower In September</td>\n",
              "      <td>Crude oil exports from all OPEC oil producers ...</td>\n",
              "      <td>-0.9838</td>\n",
              "    </tr>\n",
              "    <tr>\n",
              "      <th>3</th>\n",
              "      <td>Sep 27, 2022, 4:00 PM CDT</td>\n",
              "      <td>Oil Price Cap On Russian Crude Could Cause Tan...</td>\n",
              "      <td>With the EU embargo on imports of Russian oil ...</td>\n",
              "      <td>-0.9144</td>\n",
              "    </tr>\n",
              "    <tr>\n",
              "      <th>4</th>\n",
              "      <td>Sep 27, 2022, 9:48 AM CDT</td>\n",
              "      <td>Russia Likely To Propose Major Output Cut At N...</td>\n",
              "      <td>Russia is likely to propose at the next OPEC+ ...</td>\n",
              "      <td>-0.9619</td>\n",
              "    </tr>\n",
              "  </tbody>\n",
              "</table>\n",
              "</div>\n",
              "      <button class=\"colab-df-convert\" onclick=\"convertToInteractive('df-9bfff002-b121-4baa-ba7d-9a763c7494ba')\"\n",
              "              title=\"Convert this dataframe to an interactive table.\"\n",
              "              style=\"display:none;\">\n",
              "        \n",
              "  <svg xmlns=\"http://www.w3.org/2000/svg\" height=\"24px\"viewBox=\"0 0 24 24\"\n",
              "       width=\"24px\">\n",
              "    <path d=\"M0 0h24v24H0V0z\" fill=\"none\"/>\n",
              "    <path d=\"M18.56 5.44l.94 2.06.94-2.06 2.06-.94-2.06-.94-.94-2.06-.94 2.06-2.06.94zm-11 1L8.5 8.5l.94-2.06 2.06-.94-2.06-.94L8.5 2.5l-.94 2.06-2.06.94zm10 10l.94 2.06.94-2.06 2.06-.94-2.06-.94-.94-2.06-.94 2.06-2.06.94z\"/><path d=\"M17.41 7.96l-1.37-1.37c-.4-.4-.92-.59-1.43-.59-.52 0-1.04.2-1.43.59L10.3 9.45l-7.72 7.72c-.78.78-.78 2.05 0 2.83L4 21.41c.39.39.9.59 1.41.59.51 0 1.02-.2 1.41-.59l7.78-7.78 2.81-2.81c.8-.78.8-2.07 0-2.86zM5.41 20L4 18.59l7.72-7.72 1.47 1.35L5.41 20z\"/>\n",
              "  </svg>\n",
              "      </button>\n",
              "      \n",
              "  <style>\n",
              "    .colab-df-container {\n",
              "      display:flex;\n",
              "      flex-wrap:wrap;\n",
              "      gap: 12px;\n",
              "    }\n",
              "\n",
              "    .colab-df-convert {\n",
              "      background-color: #E8F0FE;\n",
              "      border: none;\n",
              "      border-radius: 50%;\n",
              "      cursor: pointer;\n",
              "      display: none;\n",
              "      fill: #1967D2;\n",
              "      height: 32px;\n",
              "      padding: 0 0 0 0;\n",
              "      width: 32px;\n",
              "    }\n",
              "\n",
              "    .colab-df-convert:hover {\n",
              "      background-color: #E2EBFA;\n",
              "      box-shadow: 0px 1px 2px rgba(60, 64, 67, 0.3), 0px 1px 3px 1px rgba(60, 64, 67, 0.15);\n",
              "      fill: #174EA6;\n",
              "    }\n",
              "\n",
              "    [theme=dark] .colab-df-convert {\n",
              "      background-color: #3B4455;\n",
              "      fill: #D2E3FC;\n",
              "    }\n",
              "\n",
              "    [theme=dark] .colab-df-convert:hover {\n",
              "      background-color: #434B5C;\n",
              "      box-shadow: 0px 1px 3px 1px rgba(0, 0, 0, 0.15);\n",
              "      filter: drop-shadow(0px 1px 2px rgba(0, 0, 0, 0.3));\n",
              "      fill: #FFFFFF;\n",
              "    }\n",
              "  </style>\n",
              "\n",
              "      <script>\n",
              "        const buttonEl =\n",
              "          document.querySelector('#df-9bfff002-b121-4baa-ba7d-9a763c7494ba button.colab-df-convert');\n",
              "        buttonEl.style.display =\n",
              "          google.colab.kernel.accessAllowed ? 'block' : 'none';\n",
              "\n",
              "        async function convertToInteractive(key) {\n",
              "          const element = document.querySelector('#df-9bfff002-b121-4baa-ba7d-9a763c7494ba');\n",
              "          const dataTable =\n",
              "            await google.colab.kernel.invokeFunction('convertToInteractive',\n",
              "                                                     [key], {});\n",
              "          if (!dataTable) return;\n",
              "\n",
              "          const docLinkHtml = 'Like what you see? Visit the ' +\n",
              "            '<a target=\"_blank\" href=https://colab.research.google.com/notebooks/data_table.ipynb>data table notebook</a>'\n",
              "            + ' to learn more about interactive tables.';\n",
              "          element.innerHTML = '';\n",
              "          dataTable['output_type'] = 'display_data';\n",
              "          await google.colab.output.renderOutput(dataTable, element);\n",
              "          const docLink = document.createElement('div');\n",
              "          docLink.innerHTML = docLinkHtml;\n",
              "          element.appendChild(docLink);\n",
              "        }\n",
              "      </script>\n",
              "    </div>\n",
              "  </div>\n",
              "  "
            ]
          },
          "metadata": {},
          "execution_count": 8
        }
      ]
    },
    {
      "cell_type": "code",
      "source": [
        "# According to vader documentation, sentiment between -0.05 to 0.05 considered neutral, from 0.05 onwards considered positive and less than\n",
        "# 0.05 considered negative\n",
        "news_df['Sentiment'] = news_df['sentiment'].apply(lambda x: 'positive' if x >=0.05 else 'negative' if x <= -0.05 else 'neutral')"
      ],
      "metadata": {
        "id": "MswOFs-wr1UA"
      },
      "execution_count": null,
      "outputs": []
    },
    {
      "cell_type": "code",
      "source": [
        "news_df.Sentiment.value_counts()"
      ],
      "metadata": {
        "colab": {
          "base_uri": "https://localhost:8080/"
        },
        "id": "MA7Oa5LFkTFY",
        "outputId": "17d29103-a585-4a37-daec-68f90b78ffed"
      },
      "execution_count": null,
      "outputs": [
        {
          "output_type": "execute_result",
          "data": {
            "text/plain": [
              "negative    33\n",
              "positive     7\n",
              "Name: Sentiment, dtype: int64"
            ]
          },
          "metadata": {},
          "execution_count": 19
        }
      ]
    },
    {
      "cell_type": "code",
      "source": [
        "from google.colab import files\n",
        "news_df.to_csv(\"crudeoil_news_articles.csv\", index=False)\n",
        "files.download('crudeoil_news_articles.csv')"
      ],
      "metadata": {
        "id": "SONu1akMszvF",
        "colab": {
          "base_uri": "https://localhost:8080/",
          "height": 17
        },
        "outputId": "c28890ed-f85a-4fea-b7fa-7282faecbc64"
      },
      "execution_count": null,
      "outputs": [
        {
          "output_type": "display_data",
          "data": {
            "text/plain": [
              "<IPython.core.display.Javascript object>"
            ],
            "application/javascript": [
              "\n",
              "    async function download(id, filename, size) {\n",
              "      if (!google.colab.kernel.accessAllowed) {\n",
              "        return;\n",
              "      }\n",
              "      const div = document.createElement('div');\n",
              "      const label = document.createElement('label');\n",
              "      label.textContent = `Downloading \"${filename}\": `;\n",
              "      div.appendChild(label);\n",
              "      const progress = document.createElement('progress');\n",
              "      progress.max = size;\n",
              "      div.appendChild(progress);\n",
              "      document.body.appendChild(div);\n",
              "\n",
              "      const buffers = [];\n",
              "      let downloaded = 0;\n",
              "\n",
              "      const channel = await google.colab.kernel.comms.open(id);\n",
              "      // Send a message to notify the kernel that we're ready.\n",
              "      channel.send({})\n",
              "\n",
              "      for await (const message of channel.messages) {\n",
              "        // Send a message to notify the kernel that we're ready.\n",
              "        channel.send({})\n",
              "        if (message.buffers) {\n",
              "          for (const buffer of message.buffers) {\n",
              "            buffers.push(buffer);\n",
              "            downloaded += buffer.byteLength;\n",
              "            progress.value = downloaded;\n",
              "          }\n",
              "        }\n",
              "      }\n",
              "      const blob = new Blob(buffers, {type: 'application/binary'});\n",
              "      const a = document.createElement('a');\n",
              "      a.href = window.URL.createObjectURL(blob);\n",
              "      a.download = filename;\n",
              "      div.appendChild(a);\n",
              "      a.click();\n",
              "      div.remove();\n",
              "    }\n",
              "  "
            ]
          },
          "metadata": {}
        },
        {
          "output_type": "display_data",
          "data": {
            "text/plain": [
              "<IPython.core.display.Javascript object>"
            ],
            "application/javascript": [
              "download(\"download_b7771c00-54fe-499e-a085-30e4df4d1a19\", \"crudeoil_news_articles.csv\", 200857)"
            ]
          },
          "metadata": {}
        }
      ]
    },
    {
      "cell_type": "code",
      "source": [],
      "metadata": {
        "id": "CPLb4dxpQibI"
      },
      "execution_count": null,
      "outputs": []
    }
  ]
}