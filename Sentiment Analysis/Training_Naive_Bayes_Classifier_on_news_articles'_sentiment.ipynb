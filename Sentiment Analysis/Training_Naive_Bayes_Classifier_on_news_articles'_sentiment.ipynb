{
  "nbformat": 4,
  "nbformat_minor": 0,
  "metadata": {
    "colab": {
      "provenance": []
    },
    "kernelspec": {
      "name": "python3",
      "display_name": "Python 3"
    },
    "language_info": {
      "name": "python"
    }
  },
  "cells": [
    {
      "cell_type": "markdown",
      "source": [
        "### Training Naive Bayes Classifier on Crude Oil News Articles' Sentiment"
      ],
      "metadata": {
        "id": "pZYNDmz9YamU"
      }
    },
    {
      "cell_type": "code",
      "source": [
        "# import necessary libraries\n",
        "from sklearn.feature_extraction.text import CountVectorizer, TfidfTransformer\n",
        "from sklearn.naive_bayes import GaussianNB # for more than two class classification problems, for two we can use MultinomialNB\n",
        "import pandas as pd\n",
        "import pickle"
      ],
      "metadata": {
        "id": "zu_CfDrdYxfT"
      },
      "execution_count": 35,
      "outputs": []
    },
    {
      "cell_type": "code",
      "source": [
        "data = pd.read_csv(\"/content/drive/MyDrive/Colab Notebooks/Quantitative Finance and Algo Trading/crudeoil_news_articles.csv\")\n",
        "data.drop(['Date', 'sentiment'], axis=1, inplace=True)\n",
        "data.head()"
      ],
      "metadata": {
        "colab": {
          "base_uri": "https://localhost:8080/",
          "height": 206
        },
        "id": "LBU_mWPoZOpK",
        "outputId": "b477f662-e85b-4190-cc1e-684983cad508"
      },
      "execution_count": 36,
      "outputs": [
        {
          "output_type": "execute_result",
          "data": {
            "text/plain": [
              "                                            Headline  \\\n",
              "0  US Gulf Of Mexico Can Help Fill Global Oil Sup...   \n",
              "1                   Oil Jumps On EIA Inventory Data    \n",
              "2   OPEC Crude Oil Exports Trend Lower In September    \n",
              "3  Oil Price Cap On Russian Crude Could Cause Tan...   \n",
              "4  Russia Likely To Propose Major Output Cut At N...   \n",
              "\n",
              "                                                News Sentiment  \n",
              "0  One of the world’s most mature deepwater basin...  positive  \n",
              "1  Crude oil prices moved higher today after the ...  negative  \n",
              "2  Crude oil exports from all OPEC oil producers ...  negative  \n",
              "3  With the EU embargo on imports of Russian oil ...  negative  \n",
              "4  Russia is likely to propose at the next OPEC+ ...  negative  "
            ],
            "text/html": [
              "\n",
              "  <div id=\"df-b81917d3-376c-4682-aeff-cff0e2e3f2ac\">\n",
              "    <div class=\"colab-df-container\">\n",
              "      <div>\n",
              "<style scoped>\n",
              "    .dataframe tbody tr th:only-of-type {\n",
              "        vertical-align: middle;\n",
              "    }\n",
              "\n",
              "    .dataframe tbody tr th {\n",
              "        vertical-align: top;\n",
              "    }\n",
              "\n",
              "    .dataframe thead th {\n",
              "        text-align: right;\n",
              "    }\n",
              "</style>\n",
              "<table border=\"1\" class=\"dataframe\">\n",
              "  <thead>\n",
              "    <tr style=\"text-align: right;\">\n",
              "      <th></th>\n",
              "      <th>Headline</th>\n",
              "      <th>News</th>\n",
              "      <th>Sentiment</th>\n",
              "    </tr>\n",
              "  </thead>\n",
              "  <tbody>\n",
              "    <tr>\n",
              "      <th>0</th>\n",
              "      <td>US Gulf Of Mexico Can Help Fill Global Oil Sup...</td>\n",
              "      <td>One of the world’s most mature deepwater basin...</td>\n",
              "      <td>positive</td>\n",
              "    </tr>\n",
              "    <tr>\n",
              "      <th>1</th>\n",
              "      <td>Oil Jumps On EIA Inventory Data</td>\n",
              "      <td>Crude oil prices moved higher today after the ...</td>\n",
              "      <td>negative</td>\n",
              "    </tr>\n",
              "    <tr>\n",
              "      <th>2</th>\n",
              "      <td>OPEC Crude Oil Exports Trend Lower In September</td>\n",
              "      <td>Crude oil exports from all OPEC oil producers ...</td>\n",
              "      <td>negative</td>\n",
              "    </tr>\n",
              "    <tr>\n",
              "      <th>3</th>\n",
              "      <td>Oil Price Cap On Russian Crude Could Cause Tan...</td>\n",
              "      <td>With the EU embargo on imports of Russian oil ...</td>\n",
              "      <td>negative</td>\n",
              "    </tr>\n",
              "    <tr>\n",
              "      <th>4</th>\n",
              "      <td>Russia Likely To Propose Major Output Cut At N...</td>\n",
              "      <td>Russia is likely to propose at the next OPEC+ ...</td>\n",
              "      <td>negative</td>\n",
              "    </tr>\n",
              "  </tbody>\n",
              "</table>\n",
              "</div>\n",
              "      <button class=\"colab-df-convert\" onclick=\"convertToInteractive('df-b81917d3-376c-4682-aeff-cff0e2e3f2ac')\"\n",
              "              title=\"Convert this dataframe to an interactive table.\"\n",
              "              style=\"display:none;\">\n",
              "        \n",
              "  <svg xmlns=\"http://www.w3.org/2000/svg\" height=\"24px\"viewBox=\"0 0 24 24\"\n",
              "       width=\"24px\">\n",
              "    <path d=\"M0 0h24v24H0V0z\" fill=\"none\"/>\n",
              "    <path d=\"M18.56 5.44l.94 2.06.94-2.06 2.06-.94-2.06-.94-.94-2.06-.94 2.06-2.06.94zm-11 1L8.5 8.5l.94-2.06 2.06-.94-2.06-.94L8.5 2.5l-.94 2.06-2.06.94zm10 10l.94 2.06.94-2.06 2.06-.94-2.06-.94-.94-2.06-.94 2.06-2.06.94z\"/><path d=\"M17.41 7.96l-1.37-1.37c-.4-.4-.92-.59-1.43-.59-.52 0-1.04.2-1.43.59L10.3 9.45l-7.72 7.72c-.78.78-.78 2.05 0 2.83L4 21.41c.39.39.9.59 1.41.59.51 0 1.02-.2 1.41-.59l7.78-7.78 2.81-2.81c.8-.78.8-2.07 0-2.86zM5.41 20L4 18.59l7.72-7.72 1.47 1.35L5.41 20z\"/>\n",
              "  </svg>\n",
              "      </button>\n",
              "      \n",
              "  <style>\n",
              "    .colab-df-container {\n",
              "      display:flex;\n",
              "      flex-wrap:wrap;\n",
              "      gap: 12px;\n",
              "    }\n",
              "\n",
              "    .colab-df-convert {\n",
              "      background-color: #E8F0FE;\n",
              "      border: none;\n",
              "      border-radius: 50%;\n",
              "      cursor: pointer;\n",
              "      display: none;\n",
              "      fill: #1967D2;\n",
              "      height: 32px;\n",
              "      padding: 0 0 0 0;\n",
              "      width: 32px;\n",
              "    }\n",
              "\n",
              "    .colab-df-convert:hover {\n",
              "      background-color: #E2EBFA;\n",
              "      box-shadow: 0px 1px 2px rgba(60, 64, 67, 0.3), 0px 1px 3px 1px rgba(60, 64, 67, 0.15);\n",
              "      fill: #174EA6;\n",
              "    }\n",
              "\n",
              "    [theme=dark] .colab-df-convert {\n",
              "      background-color: #3B4455;\n",
              "      fill: #D2E3FC;\n",
              "    }\n",
              "\n",
              "    [theme=dark] .colab-df-convert:hover {\n",
              "      background-color: #434B5C;\n",
              "      box-shadow: 0px 1px 3px 1px rgba(0, 0, 0, 0.15);\n",
              "      filter: drop-shadow(0px 1px 2px rgba(0, 0, 0, 0.3));\n",
              "      fill: #FFFFFF;\n",
              "    }\n",
              "  </style>\n",
              "\n",
              "      <script>\n",
              "        const buttonEl =\n",
              "          document.querySelector('#df-b81917d3-376c-4682-aeff-cff0e2e3f2ac button.colab-df-convert');\n",
              "        buttonEl.style.display =\n",
              "          google.colab.kernel.accessAllowed ? 'block' : 'none';\n",
              "\n",
              "        async function convertToInteractive(key) {\n",
              "          const element = document.querySelector('#df-b81917d3-376c-4682-aeff-cff0e2e3f2ac');\n",
              "          const dataTable =\n",
              "            await google.colab.kernel.invokeFunction('convertToInteractive',\n",
              "                                                     [key], {});\n",
              "          if (!dataTable) return;\n",
              "\n",
              "          const docLinkHtml = 'Like what you see? Visit the ' +\n",
              "            '<a target=\"_blank\" href=https://colab.research.google.com/notebooks/data_table.ipynb>data table notebook</a>'\n",
              "            + ' to learn more about interactive tables.';\n",
              "          element.innerHTML = '';\n",
              "          dataTable['output_type'] = 'display_data';\n",
              "          await google.colab.output.renderOutput(dataTable, element);\n",
              "          const docLink = document.createElement('div');\n",
              "          docLink.innerHTML = docLinkHtml;\n",
              "          element.appendChild(docLink);\n",
              "        }\n",
              "      </script>\n",
              "    </div>\n",
              "  </div>\n",
              "  "
            ]
          },
          "metadata": {},
          "execution_count": 36
        }
      ]
    },
    {
      "cell_type": "code",
      "source": [
        "X = data.iloc[:, 1] # extract column with news articles body\n",
        "X.head()"
      ],
      "metadata": {
        "colab": {
          "base_uri": "https://localhost:8080/"
        },
        "id": "ftGoxXwnZb9s",
        "outputId": "a711bba1-8e50-4672-ddab-2431f413a6ee"
      },
      "execution_count": 37,
      "outputs": [
        {
          "output_type": "execute_result",
          "data": {
            "text/plain": [
              "0    One of the world’s most mature deepwater basin...\n",
              "1    Crude oil prices moved higher today after the ...\n",
              "2    Crude oil exports from all OPEC oil producers ...\n",
              "3    With the EU embargo on imports of Russian oil ...\n",
              "4    Russia is likely to propose at the next OPEC+ ...\n",
              "Name: News, dtype: object"
            ]
          },
          "metadata": {},
          "execution_count": 37
        }
      ]
    },
    {
      "cell_type": "code",
      "source": [
        "# tokenize the news text and convert data in matrix format\n",
        "vectorizer = CountVectorizer(stop_words = 'english')\n",
        "X_vec = vectorizer.fit_transform(X)\n",
        "X_vec"
      ],
      "metadata": {
        "colab": {
          "base_uri": "https://localhost:8080/"
        },
        "id": "gFpxvS56aOWQ",
        "outputId": "4b3d7160-8034-4676-b997-c348bb2beba4"
      },
      "execution_count": 38,
      "outputs": [
        {
          "output_type": "execute_result",
          "data": {
            "text/plain": [
              "<40x3755 sparse matrix of type '<class 'numpy.int64'>'\n",
              "\twith 12222 stored elements in Compressed Sparse Row format>"
            ]
          },
          "metadata": {},
          "execution_count": 38
        }
      ]
    },
    {
      "cell_type": "code",
      "source": [
        "print(X_vec)"
      ],
      "metadata": {
        "colab": {
          "base_uri": "https://localhost:8080/"
        },
        "id": "YQSsqD06alha",
        "outputId": "34a08694-9e0b-47d7-d725-261e131eb820"
      },
      "execution_count": 39,
      "outputs": [
        {
          "output_type": "stream",
          "name": "stdout",
          "text": [
            "  (0, 3727)\t7\n",
            "  (0, 2098)\t1\n",
            "  (0, 972)\t4\n",
            "  (0, 464)\t5\n",
            "  (0, 1589)\t13\n",
            "  (0, 2145)\t12\n",
            "  (0, 2033)\t1\n",
            "  (0, 2603)\t9\n",
            "  (0, 1975)\t1\n",
            "  (0, 1961)\t1\n",
            "  (0, 1639)\t1\n",
            "  (0, 566)\t1\n",
            "  (0, 2315)\t13\n",
            "  (0, 3323)\t10\n",
            "  (0, 1517)\t2\n",
            "  (0, 3703)\t1\n",
            "  (0, 2099)\t2\n",
            "  (0, 918)\t1\n",
            "  (0, 2601)\t1\n",
            "  (0, 387)\t1\n",
            "  (0, 1552)\t2\n",
            "  (0, 462)\t2\n",
            "  (0, 2656)\t2\n",
            "  (0, 25)\t1\n",
            "  (0, 904)\t4\n",
            "  :\t:\n",
            "  (39, 2471)\t1\n",
            "  (39, 2052)\t1\n",
            "  (39, 3681)\t1\n",
            "  (39, 941)\t1\n",
            "  (39, 910)\t1\n",
            "  (39, 513)\t1\n",
            "  (39, 1347)\t1\n",
            "  (39, 3422)\t1\n",
            "  (39, 732)\t1\n",
            "  (39, 3470)\t1\n",
            "  (39, 1206)\t1\n",
            "  (39, 331)\t1\n",
            "  (39, 952)\t1\n",
            "  (39, 916)\t1\n",
            "  (39, 3150)\t2\n",
            "  (39, 2918)\t1\n",
            "  (39, 281)\t1\n",
            "  (39, 3639)\t1\n",
            "  (39, 3586)\t1\n",
            "  (39, 200)\t1\n",
            "  (39, 1047)\t1\n",
            "  (39, 1377)\t1\n",
            "  (39, 3472)\t1\n",
            "  (39, 1506)\t1\n",
            "  (39, 1090)\t1\n"
          ]
        }
      ]
    },
    {
      "cell_type": "code",
      "source": [
        "pickle.dump(vectorizer, open(\"vectorizer_crude_oil\", \"wb\")) # save vectorizer for reuse\n",
        "X_vec = X_vec.todense() # convert sparse matrix into dense matrix"
      ],
      "metadata": {
        "id": "SuQzGYaVao8U"
      },
      "execution_count": 40,
      "outputs": []
    },
    {
      "cell_type": "code",
      "source": [
        "X_vec[0], X_vec[0].shape"
      ],
      "metadata": {
        "colab": {
          "base_uri": "https://localhost:8080/"
        },
        "id": "Pdqmmw4QbUIJ",
        "outputId": "08de0e47-bbfd-4b0c-a34c-d510130b0df5"
      },
      "execution_count": 41,
      "outputs": [
        {
          "output_type": "execute_result",
          "data": {
            "text/plain": [
              "(matrix([[4, 0, 0, ..., 0, 2, 0]]), (1, 3755))"
            ]
          },
          "metadata": {},
          "execution_count": 41
        }
      ]
    },
    {
      "cell_type": "code",
      "source": [
        "X_vec[34], X_vec[34].shape"
      ],
      "metadata": {
        "colab": {
          "base_uri": "https://localhost:8080/"
        },
        "id": "tFyXWmjbboJw",
        "outputId": "657d3ef8-59d1-419c-8e2b-fc5810691786"
      },
      "execution_count": 42,
      "outputs": [
        {
          "output_type": "execute_result",
          "data": {
            "text/plain": [
              "(matrix([[1, 0, 0, ..., 0, 0, 0]]), (1, 3755))"
            ]
          },
          "metadata": {},
          "execution_count": 42
        }
      ]
    },
    {
      "cell_type": "code",
      "source": [
        "# Transform data by applying term frequency inverse document frequency (TF-IDF)\n",
        "import numpy as np\n",
        "X_vec = np.asarray(X_vec) # converting np.matrix to np.array to remove np.matrix deprecation warning that is given by TfidfTransformer object \n",
        "tfidf = TfidfTransformer() # by default applies \"l2\" normalization\n",
        "X_tfidf = tfidf.fit_transform(X_vec)\n",
        "X_tfidf = X_tfidf.todense()"
      ],
      "metadata": {
        "id": "kEzUYwddcGVu"
      },
      "execution_count": 43,
      "outputs": []
    },
    {
      "cell_type": "code",
      "source": [
        "X_tfidf.shape  # total articles: 40, total terms : 3755"
      ],
      "metadata": {
        "colab": {
          "base_uri": "https://localhost:8080/"
        },
        "id": "Q5T-PcPfcnRC",
        "outputId": "213b1c2c-76d0-4220-83d2-dcda7929ee23"
      },
      "execution_count": 44,
      "outputs": [
        {
          "output_type": "execute_result",
          "data": {
            "text/plain": [
              "(40, 3755)"
            ]
          },
          "metadata": {},
          "execution_count": 44
        }
      ]
    },
    {
      "cell_type": "markdown",
      "source": [
        "### Applying Naive Bayes Algorithm to train data"
      ],
      "metadata": {
        "id": "WWLFVdusdWeP"
      }
    },
    {
      "cell_type": "code",
      "source": [
        "# Extract the news body and labels for training the classifier\n",
        "X_train = X_tfidf[:40,:]\n",
        "X_train = np.asarray(X_train) # converting np.matrix dtype to np.ndarray to prevent deprecation warning \n",
        "y_train = data.iloc[:,2]"
      ],
      "metadata": {
        "id": "gC5pU1pLds-j"
      },
      "execution_count": 52,
      "outputs": []
    },
    {
      "cell_type": "code",
      "source": [
        "type(X_train)"
      ],
      "metadata": {
        "colab": {
          "base_uri": "https://localhost:8080/"
        },
        "id": "x9NiL86tuhAR",
        "outputId": "e3e20d2a-5c42-4c3d-af8d-7ba7e5fa7271"
      },
      "execution_count": 53,
      "outputs": [
        {
          "output_type": "execute_result",
          "data": {
            "text/plain": [
              "numpy.ndarray"
            ]
          },
          "metadata": {},
          "execution_count": 53
        }
      ]
    },
    {
      "cell_type": "code",
      "source": [
        "# Train the NB Classifier\n",
        "clf = GaussianNB().fit(X_train, y_train)\n",
        "pickle.dump(clf, open(\"nb_clf_crude_oil\", \"wb\")) # save classifier for resuse"
      ],
      "metadata": {
        "id": "-cmCtfj9fqdt"
      },
      "execution_count": 54,
      "outputs": []
    },
    {
      "cell_type": "code",
      "source": [],
      "metadata": {
        "id": "-j--noByubuP"
      },
      "execution_count": null,
      "outputs": []
    }
  ]
}