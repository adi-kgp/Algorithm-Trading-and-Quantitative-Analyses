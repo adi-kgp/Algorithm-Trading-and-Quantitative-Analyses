{
 "cells": [
  {
   "cell_type": "code",
   "execution_count": 1,
   "metadata": {},
   "outputs": [],
   "source": [
    "#!/usr/bin/env python3\n",
    "# -*- coding: utf-8 -*-\n",
    "\"\"\"\n",
    "Getting financial data from yahoo finance using web scraping\n",
    "@author: arch_camen\n",
    "\"\"\"\n",
    "import requests\n",
    "from bs4 import BeautifulSoup\n",
    "import pandas as pd"
   ]
  },
  {
   "cell_type": "code",
   "execution_count": 2,
   "metadata": {},
   "outputs": [],
   "source": [
    "tickers = [\"AAPL\", \"CSCO\", \"FB\", \"INFY.NS\", \"3988.HK\"]"
   ]
  },
  {
   "cell_type": "code",
   "execution_count": 3,
   "metadata": {},
   "outputs": [],
   "source": [
    "income_statement_dict = {}\n",
    "balancesheet_dict = {}\n",
    "cashflow_statement_dict = {}"
   ]
  },
  {
   "cell_type": "code",
   "execution_count": 4,
   "metadata": {},
   "outputs": [],
   "source": [
    "for ticker in tickers:    \n",
    "    #scraping income statement\n",
    "    url = \"https://finance.yahoo.com/quote/{}/financials?p={}\".format(ticker, ticker)\n",
    "    income_statement = {}\n",
    "    table_title = {}\n",
    "    \n",
    "    headers = {\"User-Agent\": \"Chrome/104.0.5112.110\"}\n",
    "    page = requests.get(url, headers=headers)\n",
    "    page_content = page.content\n",
    "    soup = BeautifulSoup(page_content, \"html.parser\")\n",
    "    tabl = soup.find_all(\"div\", {\"class\" : \"M(0) Whs(n) BdEnd Bdc($seperatorColor) D(itb)\"})\n",
    "    for t in tabl:\n",
    "        heading = t.find_all(\"div\", {\"class\": \"D(tbr) C($primaryColor)\"})\n",
    "        for top_row in heading:\n",
    "            table_title[top_row.get_text(separator=\"|\").split(\"|\")[0]] = top_row.get_text(separator=\"|\").split(\"|\")[1:]\n",
    "        rows = t.find_all(\"div\", {\"class\":\"D(tbr) fi-row Bgc($hoverBgColor):h\"})\n",
    "        for row in rows:\n",
    "            income_statement[row.get_text(separator=\"|\").split(\"|\")[0]] = row.get_text(separator=\"|\").split(\"|\")[1:]\n",
    "    temp = pd.DataFrame(income_statement).T\n",
    "    temp.columns = table_title[\"Breakdown\"]\n",
    "    income_statement_dict[ticker] = temp\n",
    "    \n",
    "    #scraping balance sheet\n",
    "    url = \"https://finance.yahoo.com/quote/{}/balance-sheet?p={}\".format(ticker, ticker)\n",
    "    balance_sheet = {}\n",
    "    bs_table_title = {}\n",
    "    headers = {\"User-Agent\": \"Chrome/104.0.5112.110\"}\n",
    "    page = requests.get(url, headers=headers)\n",
    "    page_content = page.content\n",
    "    soup = BeautifulSoup(page_content, \"html.parser\")\n",
    "    for t in tabl:\n",
    "        heading = t.find_all(\"div\", {\"class\": \"D(tbr) C($primaryColor)\"})\n",
    "        for top_row in heading:\n",
    "            bs_table_title[top_row.get_text(separator=\"|\").split(\"|\")[0]] = top_row.get_text(separator=\"|\").split(\"|\")[1:]\n",
    "        rows = t.find_all(\"div\", {\"class\":\"D(tbr) fi-row Bgc($hoverBgColor):h\"})\n",
    "        for row in rows:\n",
    "            balance_sheet[row.get_text(separator=\"|\").split(\"|\")[0]] = row.get_text(separator=\"|\").split(\"|\")[1:]\n",
    "    temp = pd.DataFrame(balance_sheet).T\n",
    "    temp.columns = bs_table_title[\"Breakdown\"]\n",
    "    balancesheet_dict[ticker] = temp\n",
    "    \n",
    "    #scraping cashflow statement\n",
    "    url = \"https://finance.yahoo.com/quote/{}/cash-flow?p={}\".format(ticker, ticker)\n",
    "    cashflow_statement = {}\n",
    "    cf_table_title = {}\n",
    "    headers = {\"User-Agent\": \"Chrome/104.0.5112.110\"}\n",
    "    page = requests.get(url, headers=headers)\n",
    "    page_content = page.content\n",
    "    soup = BeautifulSoup(page_content, \"html.parser\")\n",
    "    for t in tabl:\n",
    "        heading = t.find_all(\"div\", {\"class\": \"D(tbr) C($primaryColor)\"})\n",
    "        for top_row in heading:\n",
    "            cf_table_title[top_row.get_text(separator=\"|\").split(\"|\")[0]] = top_row.get_text(separator=\"|\").split(\"|\")[1:]\n",
    "        rows = t.find_all(\"div\", {\"class\":\"D(tbr) fi-row Bgc($hoverBgColor):h\"})\n",
    "        for row in rows:\n",
    "            cashflow_statement[row.get_text(separator=\"|\").split(\"|\")[0]] = row.get_text(separator=\"|\").split(\"|\")[1:]\n",
    "    temp = pd.DataFrame(cashflow_statement).T\n",
    "    temp.columns = cf_table_title[\"Breakdown\"]\n",
    "    cashflow_statement_dict[ticker] = temp"
   ]
  },
  {
   "cell_type": "code",
   "execution_count": 8,
   "metadata": {},
   "outputs": [
    {
     "name": "stderr",
     "output_type": "stream",
     "text": [
      "/tmp/ipykernel_1703/2537339141.py:3: FutureWarning: The default value of regex will change from True to False in a future version.\n",
      "  income_statement_dict[ticker][col] = income_statement_dict[ticker][col].str.replace(',|-','')\n"
     ]
    }
   ],
   "source": [
    "for ticker in tickers:\n",
    "    for col in income_statement_dict[ticker].columns:\n",
    "        income_statement_dict[ticker][col] = income_statement_dict[ticker][col].str.replace(',|-','')\n",
    "        income_statement_dict[ticker][col] = pd.to_numeric(income_statement_dict[ticker][col], errors = \"coerce\")\n",
    "    for col in cashflow_statement_dict[ticker].columns:\n",
    "        cashflow_statement_dict[ticker][col] = cashflow_statement_dict[ticker][col].str.replace(',|-','')\n",
    "        cashflow_statement_dict[ticker][col] = pd.to_numeric(cashflow_statement_dict[ticker][col], errors = \"coerce\")\n",
    "    for col in balancesheet_dict[ticker].columns:\n",
    "        balancesheet_dict[ticker][col] = balancesheet_dict[ticker][col].str.replace(',|-','')\n",
    "        balancesheet_dict[ticker][col] = pd.to_numeric(balancesheet_dict[ticker][col], errors = \"coerce\")"
   ]
  },
  {
   "cell_type": "code",
   "execution_count": null,
   "metadata": {},
   "outputs": [],
   "source": []
  },
  {
   "cell_type": "code",
   "execution_count": null,
   "metadata": {},
   "outputs": [],
   "source": []
  }
 ],
 "metadata": {
  "kernelspec": {
   "display_name": "Python 3 (ipykernel)",
   "language": "python",
   "name": "python3"
  },
  "language_info": {
   "codemirror_mode": {
    "name": "ipython",
    "version": 3
   },
   "file_extension": ".py",
   "mimetype": "text/x-python",
   "name": "python",
   "nbconvert_exporter": "python",
   "pygments_lexer": "ipython3",
   "version": "3.9.13"
  }
 },
 "nbformat": 4,
 "nbformat_minor": 4
}
